{
 "cells": [
  {
   "cell_type": "code",
   "execution_count": 5,
   "id": "impressed-fashion",
   "metadata": {},
   "outputs": [],
   "source": [
    "import pandas as pd\n",
    "import matplotlib.pyplot as plt\n",
    "import numpy as np\n",
    "import seaborn as sns"
   ]
  },
  {
   "cell_type": "markdown",
   "id": "indian-toolbox",
   "metadata": {},
   "source": [
    "## Read in Data"
   ]
  },
  {
   "cell_type": "code",
   "execution_count": 6,
   "id": "looking-anxiety",
   "metadata": {},
   "outputs": [],
   "source": [
    "tourney = pd.read_csv('Final_Data.csv')\n",
    "prediction_data = pd.read_csv('Input_Data.csv')\n",
    "tourney.drop(['Unnamed: 0'], axis = 1, inplace = True)\n",
    "tourney['point_diff'] = tourney['Tm.'] - tourney['Opp.']\n",
    "tourney['ppg'] = tourney['Tm.'] / tourney['G']\n",
    "tourney['rpg'] = tourney['TRB'] / tourney['G']\n",
    "tourney['apg'] = tourney['AST'] / tourney['G']\n",
    "tourney['spg'] = tourney['STL'] / tourney['G']\n",
    "tourney['bpg'] = tourney['BLK'] / tourney['G']\n",
    "tourney['tpg'] = tourney['TOV'] / tourney['G']\n",
    "tourney['papg'] = tourney['Opp.'] / tourney['G']\n",
    "tourney['opp_point_diff'] = tourney['Opp_Tm'] - tourney['Opp_Opp']\n",
    "tourney['opp_ppg'] = tourney['Opp_Tm'] / tourney['Opp_G']\n",
    "tourney['opp_rpg'] = tourney['Opp_TRB'] / tourney['Opp_G']\n",
    "tourney['opp_apg'] = tourney['Opp_AST'] / tourney['Opp_G']\n",
    "tourney['opp_spg'] = tourney['Opp_STL'] / tourney['Opp_G']\n",
    "tourney['opp_bpg'] = tourney['Opp_BLK'] / tourney['Opp_G']\n",
    "tourney['opp_tpg'] = tourney['Opp_TOV'] / tourney['Opp_G']\n",
    "tourney['Round'] = tourney['Round'].apply(lambda x: str(x) + \"_round\")\n",
    "tourney['Seed'] = tourney['Seed'].apply(lambda x: str(x) + \"_seed\")\n",
    "tourney['Opp_Seed'] = tourney['Opp_Seed'].apply(lambda x: str(x) + \"_seedopp\")\n",
    "#tourney['Seed'] = tourney['Seed'].astype('category')\n",
    "#tourney['Opp_Seed'] = tourney['Opp_Seed'].astype('category')\n",
    "prediction_data.drop(['Unnamed: 0'], axis = 1, inplace = True)\n",
    "prediction_data['point_diff'] = prediction_data['Tm.'] - prediction_data['Opp.']\n",
    "prediction_data['ppg'] = prediction_data['Tm.'] / prediction_data['G']\n",
    "prediction_data['rpg'] = prediction_data['TRB'] / prediction_data['G']\n",
    "prediction_data['apg'] = prediction_data['AST'] / prediction_data['G']\n",
    "prediction_data['spg'] = prediction_data['STL'] / prediction_data['G']\n",
    "prediction_data['bpg'] = prediction_data['BLK'] / prediction_data['G']\n",
    "prediction_data['tpg'] = prediction_data['TOV'] / prediction_data['G']\n",
    "prediction_data['papg'] = prediction_data['Opp.'] / prediction_data['G']\n",
    "prediction_data['opp_point_diff'] = prediction_data['Opp_Tm'] - prediction_data['Opp_Opp']\n",
    "prediction_data['opp_ppg'] = prediction_data['Opp_Tm'] / prediction_data['Opp_G']\n",
    "prediction_data['opp_rpg'] = prediction_data['Opp_TRB'] / prediction_data['Opp_G']\n",
    "prediction_data['opp_apg'] = prediction_data['Opp_AST'] / prediction_data['Opp_G']\n",
    "prediction_data['opp_spg'] = prediction_data['Opp_STL'] / prediction_data['Opp_G']\n",
    "prediction_data['opp_bpg'] = prediction_data['Opp_BLK'] / prediction_data['Opp_G']\n",
    "prediction_data['opp_tpg'] = prediction_data['Opp_TOV'] / prediction_data['Opp_G']\n",
    "prediction_data['Round'] = prediction_data['Round'].apply(lambda x: str(x) + \"_round\")\n",
    "prediction_data['Seed'] = prediction_data['Seed'].apply(lambda x: str(x) + \"_seed\")\n",
    "prediction_data['Opp_Seed'] = prediction_data['Opp_Seed'].apply(lambda x: str(x) + \"_seedopp\")"
   ]
  },
  {
   "cell_type": "markdown",
   "id": "prompt-weather",
   "metadata": {},
   "source": [
    "## EDA"
   ]
  },
  {
   "cell_type": "code",
   "execution_count": 7,
   "id": "dirty-inclusion",
   "metadata": {},
   "outputs": [
    {
     "data": {
      "text/plain": "      Round   Region     Seed                   Team               Opponent  \\\n0   1_round  Midwest   1_seed               Illinois                 Drexel   \n1   1_round  Midwest  16_seed                 Drexel               Illinois   \n2   1_round  Midwest   2_seed                Houston        Cleveland State   \n3   1_round  Midwest  15_seed        Cleveland State                Houston   \n4   1_round  Midwest   3_seed          West Virginia         Morehead State   \n..      ...      ...      ...                    ...                    ...   \n67  1_round     West  11_seed                  Drake    Southern California   \n68  1_round     West   7_seed                 Oregon  Virginia Commonwealth   \n69  1_round     West  10_seed  Virginia Commonwealth                 Oregon   \n70  1_round     West   8_seed               Oklahoma               Missouri   \n71  1_round     West   9_seed               Missouri               Oklahoma   \n\n      Opp_Seed   G  W_overall  L_overall   W-L%  ...       bpg        tpg  \\\n0   16_seedopp  29         23          6  0.793  ...  2.827586  13.172414   \n1    1_seedopp  19         12          7  0.632  ...  2.368421  12.894737   \n2   15_seedopp  27         24          3  0.889  ...  4.666667  10.851852   \n3    2_seedopp  26         19          7  0.731  ...  2.500000  12.846154   \n4   14_seedopp  27         18          9  0.667  ...  2.851852  12.148148   \n..         ...  ..        ...        ...    ...  ...       ...        ...   \n67   6_seedopp  29         25          4  0.862  ...  2.965517  10.310345   \n68  10_seedopp  26         20          6  0.769  ...  3.615385  11.423077   \n69   7_seedopp  26         19          7  0.731  ...  5.384615  14.615385   \n70   9_seedopp  25         15         10  0.600  ...  3.440000  11.080000   \n71   8_seedopp  25         16          9  0.640  ...  3.520000  13.440000   \n\n         papg  opp_point_diff    opp_ppg    opp_rpg    opp_apg   opp_spg  \\\n0   69.241379              88  71.473684  33.947368  15.157895  4.684211   \n1   66.842105             353  81.413793  40.413793  16.310345  5.724138   \n2   57.851852              23  71.461538  35.000000  13.961538  7.000000   \n3   70.576923             534  77.629630  41.111111  14.111111  8.185185   \n4   72.111111             163  68.833333  37.500000  12.733333  4.400000   \n..        ...             ...        ...        ...        ...       ...   \n67  64.655172             280  74.758621  39.482759  13.655172  4.793103   \n68  67.423077             170  71.692308  34.230769  13.346154  9.230769   \n69  65.153846             181  74.384615  33.038462  13.423077  7.461538   \n70  69.240000              43  73.640000  35.680000  13.200000  6.720000   \n71  71.920000             138  74.760000  36.280000  13.400000  7.360000   \n\n     opp_bpg    opp_tpg  \n0   2.368421  12.894737  \n1   2.827586  13.172414  \n2   2.500000  12.846154  \n3   4.666667  10.851852  \n4   5.000000  15.300000  \n..       ...        ...  \n67  5.275862  12.448276  \n68  5.384615  14.615385  \n69  3.615385  11.423077  \n70  3.520000  13.440000  \n71  3.440000  11.080000  \n\n[72 rows x 72 columns]",
      "text/html": "<div>\n<style scoped>\n    .dataframe tbody tr th:only-of-type {\n        vertical-align: middle;\n    }\n\n    .dataframe tbody tr th {\n        vertical-align: top;\n    }\n\n    .dataframe thead th {\n        text-align: right;\n    }\n</style>\n<table border=\"1\" class=\"dataframe\">\n  <thead>\n    <tr style=\"text-align: right;\">\n      <th></th>\n      <th>Round</th>\n      <th>Region</th>\n      <th>Seed</th>\n      <th>Team</th>\n      <th>Opponent</th>\n      <th>Opp_Seed</th>\n      <th>G</th>\n      <th>W_overall</th>\n      <th>L_overall</th>\n      <th>W-L%</th>\n      <th>...</th>\n      <th>bpg</th>\n      <th>tpg</th>\n      <th>papg</th>\n      <th>opp_point_diff</th>\n      <th>opp_ppg</th>\n      <th>opp_rpg</th>\n      <th>opp_apg</th>\n      <th>opp_spg</th>\n      <th>opp_bpg</th>\n      <th>opp_tpg</th>\n    </tr>\n  </thead>\n  <tbody>\n    <tr>\n      <th>0</th>\n      <td>1_round</td>\n      <td>Midwest</td>\n      <td>1_seed</td>\n      <td>Illinois</td>\n      <td>Drexel</td>\n      <td>16_seedopp</td>\n      <td>29</td>\n      <td>23</td>\n      <td>6</td>\n      <td>0.793</td>\n      <td>...</td>\n      <td>2.827586</td>\n      <td>13.172414</td>\n      <td>69.241379</td>\n      <td>88</td>\n      <td>71.473684</td>\n      <td>33.947368</td>\n      <td>15.157895</td>\n      <td>4.684211</td>\n      <td>2.368421</td>\n      <td>12.894737</td>\n    </tr>\n    <tr>\n      <th>1</th>\n      <td>1_round</td>\n      <td>Midwest</td>\n      <td>16_seed</td>\n      <td>Drexel</td>\n      <td>Illinois</td>\n      <td>1_seedopp</td>\n      <td>19</td>\n      <td>12</td>\n      <td>7</td>\n      <td>0.632</td>\n      <td>...</td>\n      <td>2.368421</td>\n      <td>12.894737</td>\n      <td>66.842105</td>\n      <td>353</td>\n      <td>81.413793</td>\n      <td>40.413793</td>\n      <td>16.310345</td>\n      <td>5.724138</td>\n      <td>2.827586</td>\n      <td>13.172414</td>\n    </tr>\n    <tr>\n      <th>2</th>\n      <td>1_round</td>\n      <td>Midwest</td>\n      <td>2_seed</td>\n      <td>Houston</td>\n      <td>Cleveland State</td>\n      <td>15_seedopp</td>\n      <td>27</td>\n      <td>24</td>\n      <td>3</td>\n      <td>0.889</td>\n      <td>...</td>\n      <td>4.666667</td>\n      <td>10.851852</td>\n      <td>57.851852</td>\n      <td>23</td>\n      <td>71.461538</td>\n      <td>35.000000</td>\n      <td>13.961538</td>\n      <td>7.000000</td>\n      <td>2.500000</td>\n      <td>12.846154</td>\n    </tr>\n    <tr>\n      <th>3</th>\n      <td>1_round</td>\n      <td>Midwest</td>\n      <td>15_seed</td>\n      <td>Cleveland State</td>\n      <td>Houston</td>\n      <td>2_seedopp</td>\n      <td>26</td>\n      <td>19</td>\n      <td>7</td>\n      <td>0.731</td>\n      <td>...</td>\n      <td>2.500000</td>\n      <td>12.846154</td>\n      <td>70.576923</td>\n      <td>534</td>\n      <td>77.629630</td>\n      <td>41.111111</td>\n      <td>14.111111</td>\n      <td>8.185185</td>\n      <td>4.666667</td>\n      <td>10.851852</td>\n    </tr>\n    <tr>\n      <th>4</th>\n      <td>1_round</td>\n      <td>Midwest</td>\n      <td>3_seed</td>\n      <td>West Virginia</td>\n      <td>Morehead State</td>\n      <td>14_seedopp</td>\n      <td>27</td>\n      <td>18</td>\n      <td>9</td>\n      <td>0.667</td>\n      <td>...</td>\n      <td>2.851852</td>\n      <td>12.148148</td>\n      <td>72.111111</td>\n      <td>163</td>\n      <td>68.833333</td>\n      <td>37.500000</td>\n      <td>12.733333</td>\n      <td>4.400000</td>\n      <td>5.000000</td>\n      <td>15.300000</td>\n    </tr>\n    <tr>\n      <th>...</th>\n      <td>...</td>\n      <td>...</td>\n      <td>...</td>\n      <td>...</td>\n      <td>...</td>\n      <td>...</td>\n      <td>...</td>\n      <td>...</td>\n      <td>...</td>\n      <td>...</td>\n      <td>...</td>\n      <td>...</td>\n      <td>...</td>\n      <td>...</td>\n      <td>...</td>\n      <td>...</td>\n      <td>...</td>\n      <td>...</td>\n      <td>...</td>\n      <td>...</td>\n      <td>...</td>\n    </tr>\n    <tr>\n      <th>67</th>\n      <td>1_round</td>\n      <td>West</td>\n      <td>11_seed</td>\n      <td>Drake</td>\n      <td>Southern California</td>\n      <td>6_seedopp</td>\n      <td>29</td>\n      <td>25</td>\n      <td>4</td>\n      <td>0.862</td>\n      <td>...</td>\n      <td>2.965517</td>\n      <td>10.310345</td>\n      <td>64.655172</td>\n      <td>280</td>\n      <td>74.758621</td>\n      <td>39.482759</td>\n      <td>13.655172</td>\n      <td>4.793103</td>\n      <td>5.275862</td>\n      <td>12.448276</td>\n    </tr>\n    <tr>\n      <th>68</th>\n      <td>1_round</td>\n      <td>West</td>\n      <td>7_seed</td>\n      <td>Oregon</td>\n      <td>Virginia Commonwealth</td>\n      <td>10_seedopp</td>\n      <td>26</td>\n      <td>20</td>\n      <td>6</td>\n      <td>0.769</td>\n      <td>...</td>\n      <td>3.615385</td>\n      <td>11.423077</td>\n      <td>67.423077</td>\n      <td>170</td>\n      <td>71.692308</td>\n      <td>34.230769</td>\n      <td>13.346154</td>\n      <td>9.230769</td>\n      <td>5.384615</td>\n      <td>14.615385</td>\n    </tr>\n    <tr>\n      <th>69</th>\n      <td>1_round</td>\n      <td>West</td>\n      <td>10_seed</td>\n      <td>Virginia Commonwealth</td>\n      <td>Oregon</td>\n      <td>7_seedopp</td>\n      <td>26</td>\n      <td>19</td>\n      <td>7</td>\n      <td>0.731</td>\n      <td>...</td>\n      <td>5.384615</td>\n      <td>14.615385</td>\n      <td>65.153846</td>\n      <td>181</td>\n      <td>74.384615</td>\n      <td>33.038462</td>\n      <td>13.423077</td>\n      <td>7.461538</td>\n      <td>3.615385</td>\n      <td>11.423077</td>\n    </tr>\n    <tr>\n      <th>70</th>\n      <td>1_round</td>\n      <td>West</td>\n      <td>8_seed</td>\n      <td>Oklahoma</td>\n      <td>Missouri</td>\n      <td>9_seedopp</td>\n      <td>25</td>\n      <td>15</td>\n      <td>10</td>\n      <td>0.600</td>\n      <td>...</td>\n      <td>3.440000</td>\n      <td>11.080000</td>\n      <td>69.240000</td>\n      <td>43</td>\n      <td>73.640000</td>\n      <td>35.680000</td>\n      <td>13.200000</td>\n      <td>6.720000</td>\n      <td>3.520000</td>\n      <td>13.440000</td>\n    </tr>\n    <tr>\n      <th>71</th>\n      <td>1_round</td>\n      <td>West</td>\n      <td>9_seed</td>\n      <td>Missouri</td>\n      <td>Oklahoma</td>\n      <td>8_seedopp</td>\n      <td>25</td>\n      <td>16</td>\n      <td>9</td>\n      <td>0.640</td>\n      <td>...</td>\n      <td>3.520000</td>\n      <td>13.440000</td>\n      <td>71.920000</td>\n      <td>138</td>\n      <td>74.760000</td>\n      <td>36.280000</td>\n      <td>13.400000</td>\n      <td>7.360000</td>\n      <td>3.440000</td>\n      <td>11.080000</td>\n    </tr>\n  </tbody>\n</table>\n<p>72 rows × 72 columns</p>\n</div>"
     },
     "execution_count": 7,
     "metadata": {},
     "output_type": "execute_result"
    }
   ],
   "source": [
    "prediction_data"
   ]
  },
  {
   "cell_type": "code",
   "execution_count": 8,
   "id": "lyric-bangladesh",
   "metadata": {},
   "outputs": [
    {
     "name": "stdout",
     "output_type": "stream",
     "text": [
      "<class 'pandas.core.frame.DataFrame'>\n",
      "RangeIndex: 2394 entries, 0 to 2393\n",
      "Data columns (total 76 columns):\n",
      " #   Column          Non-Null Count  Dtype  \n",
      "---  ------          --------------  -----  \n",
      " 0   Year            2394 non-null   int64  \n",
      " 1   Round           2394 non-null   object \n",
      " 2   Region Number   2394 non-null   int64  \n",
      " 3   Region Name     2394 non-null   object \n",
      " 4   Seed            2394 non-null   object \n",
      " 5   Score           2394 non-null   int64  \n",
      " 6   Team            2394 non-null   object \n",
      " 7   Opponent        2394 non-null   object \n",
      " 8   Opp_Score       2394 non-null   int64  \n",
      " 9   Opp_Seed        2394 non-null   object \n",
      " 10  Win             2394 non-null   int64  \n",
      " 11  G               2394 non-null   int64  \n",
      " 12  W_overall       2394 non-null   int64  \n",
      " 13  L_overall       2394 non-null   int64  \n",
      " 14  W-L%            2394 non-null   float64\n",
      " 15  SRS             2394 non-null   float64\n",
      " 16  SOS             2394 non-null   float64\n",
      " 17  Tm.             2394 non-null   int64  \n",
      " 18  Opp.            2394 non-null   int64  \n",
      " 19  MP              1911 non-null   float64\n",
      " 20  FG              2394 non-null   int64  \n",
      " 21  FGA             2394 non-null   int64  \n",
      " 22  FG%             2394 non-null   float64\n",
      " 23  3P              2394 non-null   int64  \n",
      " 24  3PA             2394 non-null   int64  \n",
      " 25  3P%             2394 non-null   float64\n",
      " 26  FT              2394 non-null   int64  \n",
      " 27  FTA             2394 non-null   int64  \n",
      " 28  FT%             2394 non-null   float64\n",
      " 29  ORB             2393 non-null   float64\n",
      " 30  TRB             2394 non-null   int64  \n",
      " 31  AST             2394 non-null   int64  \n",
      " 32  STL             2394 non-null   int64  \n",
      " 33  BLK             2394 non-null   int64  \n",
      " 34  TOV             2394 non-null   int64  \n",
      " 35  PF              2268 non-null   float64\n",
      " 36  Opp_G           2394 non-null   int64  \n",
      " 37  Opp_Ws          2394 non-null   int64  \n",
      " 38  Opp_Ls          2394 non-null   int64  \n",
      " 39  Opp_WLRat       2394 non-null   float64\n",
      " 40  Opp_SRS         2394 non-null   float64\n",
      " 41  Opp_SOS         2394 non-null   float64\n",
      " 42  Opp_Tm          2394 non-null   int64  \n",
      " 43  Opp_Opp         2394 non-null   int64  \n",
      " 44  Opp_MP          1911 non-null   float64\n",
      " 45  Opp_FG          2394 non-null   int64  \n",
      " 46  Opp_FGA         2394 non-null   int64  \n",
      " 47  Opp_FGperc      2394 non-null   float64\n",
      " 48  Opp_3P          2394 non-null   int64  \n",
      " 49  Opp_3PA         2394 non-null   int64  \n",
      " 50  Opp_3Pperc      2394 non-null   float64\n",
      " 51  Opp_FT          2394 non-null   int64  \n",
      " 52  Opp_FTA         2394 non-null   int64  \n",
      " 53  Opp_FTperc      2394 non-null   float64\n",
      " 54  Opp_ORB         2393 non-null   float64\n",
      " 55  Opp_TRB         2394 non-null   int64  \n",
      " 56  Opp_AST         2394 non-null   int64  \n",
      " 57  Opp_STL         2394 non-null   int64  \n",
      " 58  Opp_BLK         2394 non-null   int64  \n",
      " 59  Opp_TOV         2394 non-null   int64  \n",
      " 60  Opp_PF          2268 non-null   float64\n",
      " 61  point_diff      2394 non-null   int64  \n",
      " 62  ppg             2394 non-null   float64\n",
      " 63  rpg             2394 non-null   float64\n",
      " 64  apg             2394 non-null   float64\n",
      " 65  spg             2394 non-null   float64\n",
      " 66  bpg             2394 non-null   float64\n",
      " 67  tpg             2394 non-null   float64\n",
      " 68  papg            2394 non-null   float64\n",
      " 69  opp_point_diff  2394 non-null   int64  \n",
      " 70  opp_ppg         2394 non-null   float64\n",
      " 71  opp_rpg         2394 non-null   float64\n",
      " 72  opp_apg         2394 non-null   float64\n",
      " 73  opp_spg         2394 non-null   float64\n",
      " 74  opp_bpg         2394 non-null   float64\n",
      " 75  opp_tpg         2394 non-null   float64\n",
      "dtypes: float64(31), int64(39), object(6)\n",
      "memory usage: 1.4+ MB\n"
     ]
    }
   ],
   "source": [
    "tourney.info()"
   ]
  },
  {
   "cell_type": "code",
   "execution_count": 9,
   "id": "gentle-arrangement",
   "metadata": {},
   "outputs": [
    {
     "data": {
      "text/plain": "   Year    Round  Region Number Region Name     Seed  Score              Team  \\\n0  2001  1_round              1     Midwest   1_seed     96          Illinois   \n1  2001  1_round              1     Midwest  16_seed     54   Northwestern St   \n2  2001  1_round              1     Midwest   2_seed    101           Arizona   \n3  2001  1_round              1     Midwest  15_seed     76  Eastern Illinois   \n4  2001  1_round              1     Midwest   3_seed     72          Ole Miss   \n\n           Opponent  Opp_Score    Opp_Seed  ...       bpg        tpg  \\\n0   Northwestern St         54  16_seedopp  ...  4.171429  14.971429   \n1          Illinois         96   1_seedopp  ...  4.156250  16.781250   \n2  Eastern Illinois         76  15_seedopp  ...  4.416667  15.166667   \n3           Arizona        101   2_seedopp  ...  3.741935  13.774194   \n4              Iona         70  14_seedopp  ...  3.285714  14.285714   \n\n        papg  opp_point_diff    opp_ppg    opp_rpg    opp_apg   opp_spg  \\\n0  65.914286            -105  71.625000  36.812500  12.250000  9.625000   \n1  74.906250             418  77.857143  40.000000  15.714286  7.685714   \n2  66.277778             125  82.709677  36.258065  16.580645  6.354839   \n3  78.677419             540  81.277778  39.805556  16.250000  7.861111   \n4  64.628571             174  77.242424  37.545455  14.575758  7.848485   \n\n    opp_bpg    opp_tpg  \n0  4.156250  16.781250  \n1  4.171429  14.971429  \n2  3.741935  13.774194  \n3  4.416667  15.166667  \n4  5.545455  16.878788  \n\n[5 rows x 76 columns]",
      "text/html": "<div>\n<style scoped>\n    .dataframe tbody tr th:only-of-type {\n        vertical-align: middle;\n    }\n\n    .dataframe tbody tr th {\n        vertical-align: top;\n    }\n\n    .dataframe thead th {\n        text-align: right;\n    }\n</style>\n<table border=\"1\" class=\"dataframe\">\n  <thead>\n    <tr style=\"text-align: right;\">\n      <th></th>\n      <th>Year</th>\n      <th>Round</th>\n      <th>Region Number</th>\n      <th>Region Name</th>\n      <th>Seed</th>\n      <th>Score</th>\n      <th>Team</th>\n      <th>Opponent</th>\n      <th>Opp_Score</th>\n      <th>Opp_Seed</th>\n      <th>...</th>\n      <th>bpg</th>\n      <th>tpg</th>\n      <th>papg</th>\n      <th>opp_point_diff</th>\n      <th>opp_ppg</th>\n      <th>opp_rpg</th>\n      <th>opp_apg</th>\n      <th>opp_spg</th>\n      <th>opp_bpg</th>\n      <th>opp_tpg</th>\n    </tr>\n  </thead>\n  <tbody>\n    <tr>\n      <th>0</th>\n      <td>2001</td>\n      <td>1_round</td>\n      <td>1</td>\n      <td>Midwest</td>\n      <td>1_seed</td>\n      <td>96</td>\n      <td>Illinois</td>\n      <td>Northwestern St</td>\n      <td>54</td>\n      <td>16_seedopp</td>\n      <td>...</td>\n      <td>4.171429</td>\n      <td>14.971429</td>\n      <td>65.914286</td>\n      <td>-105</td>\n      <td>71.625000</td>\n      <td>36.812500</td>\n      <td>12.250000</td>\n      <td>9.625000</td>\n      <td>4.156250</td>\n      <td>16.781250</td>\n    </tr>\n    <tr>\n      <th>1</th>\n      <td>2001</td>\n      <td>1_round</td>\n      <td>1</td>\n      <td>Midwest</td>\n      <td>16_seed</td>\n      <td>54</td>\n      <td>Northwestern St</td>\n      <td>Illinois</td>\n      <td>96</td>\n      <td>1_seedopp</td>\n      <td>...</td>\n      <td>4.156250</td>\n      <td>16.781250</td>\n      <td>74.906250</td>\n      <td>418</td>\n      <td>77.857143</td>\n      <td>40.000000</td>\n      <td>15.714286</td>\n      <td>7.685714</td>\n      <td>4.171429</td>\n      <td>14.971429</td>\n    </tr>\n    <tr>\n      <th>2</th>\n      <td>2001</td>\n      <td>1_round</td>\n      <td>1</td>\n      <td>Midwest</td>\n      <td>2_seed</td>\n      <td>101</td>\n      <td>Arizona</td>\n      <td>Eastern Illinois</td>\n      <td>76</td>\n      <td>15_seedopp</td>\n      <td>...</td>\n      <td>4.416667</td>\n      <td>15.166667</td>\n      <td>66.277778</td>\n      <td>125</td>\n      <td>82.709677</td>\n      <td>36.258065</td>\n      <td>16.580645</td>\n      <td>6.354839</td>\n      <td>3.741935</td>\n      <td>13.774194</td>\n    </tr>\n    <tr>\n      <th>3</th>\n      <td>2001</td>\n      <td>1_round</td>\n      <td>1</td>\n      <td>Midwest</td>\n      <td>15_seed</td>\n      <td>76</td>\n      <td>Eastern Illinois</td>\n      <td>Arizona</td>\n      <td>101</td>\n      <td>2_seedopp</td>\n      <td>...</td>\n      <td>3.741935</td>\n      <td>13.774194</td>\n      <td>78.677419</td>\n      <td>540</td>\n      <td>81.277778</td>\n      <td>39.805556</td>\n      <td>16.250000</td>\n      <td>7.861111</td>\n      <td>4.416667</td>\n      <td>15.166667</td>\n    </tr>\n    <tr>\n      <th>4</th>\n      <td>2001</td>\n      <td>1_round</td>\n      <td>1</td>\n      <td>Midwest</td>\n      <td>3_seed</td>\n      <td>72</td>\n      <td>Ole Miss</td>\n      <td>Iona</td>\n      <td>70</td>\n      <td>14_seedopp</td>\n      <td>...</td>\n      <td>3.285714</td>\n      <td>14.285714</td>\n      <td>64.628571</td>\n      <td>174</td>\n      <td>77.242424</td>\n      <td>37.545455</td>\n      <td>14.575758</td>\n      <td>7.848485</td>\n      <td>5.545455</td>\n      <td>16.878788</td>\n    </tr>\n  </tbody>\n</table>\n<p>5 rows × 76 columns</p>\n</div>"
     },
     "execution_count": 9,
     "metadata": {},
     "output_type": "execute_result"
    }
   ],
   "source": [
    "tourney.head()"
   ]
  },
  {
   "cell_type": "code",
   "execution_count": 10,
   "id": "substantial-ocean",
   "metadata": {},
   "outputs": [
    {
     "data": {
      "text/plain": "             Year  Region Number        Score    Opp_Score          Win  \\\ncount  2394.00000    2394.000000  2394.000000  2394.000000  2394.000000   \nmean   2010.00000       2.444444    69.898496    69.898496     0.500000   \nstd       5.47837       1.123973    12.045816    12.045816     0.500104   \nmin    2001.00000       1.000000    29.000000    29.000000     0.000000   \n25%    2005.00000       1.000000    61.000000    61.000000     0.000000   \n50%    2010.00000       2.000000    70.000000    70.000000     0.500000   \n75%    2015.00000       3.000000    78.000000    78.000000     1.000000   \nmax    2019.00000       4.000000   121.000000   121.000000     1.000000   \n\n                 G    W_overall    L_overall         W-L%          SRS  ...  \\\ncount  2394.000000  2394.000000  2394.000000  2394.000000  2394.000000  ...   \nmean     35.032581    26.362155     8.670426     0.749786    14.723154  ...   \nstd       2.465089     4.421059     3.094349     0.093432     7.196261  ...   \nmin      27.000000    13.000000     1.000000     0.406000   -15.280000  ...   \n25%      33.000000    23.000000     7.000000     0.677000    11.530000  ...   \n50%      35.000000    26.000000     9.000000     0.750000    15.700000  ...   \n75%      37.000000    29.000000    11.000000     0.816000    19.490000  ...   \nmax      41.000000    38.000000    20.000000     0.974000    32.180000  ...   \n\n               bpg          tpg         papg  opp_point_diff      opp_ppg  \\\ncount  2394.000000  2394.000000  2394.000000     2394.000000  2394.000000   \nmean      4.078178    12.690743    65.630277      326.279866    74.821341   \nstd       1.219452     1.698798     4.654791      159.869847     5.234050   \nmin       0.750000     7.400000    50.862069     -194.000000    57.851852   \n25%       3.216850    11.487179    62.462242      215.000000    71.253676   \n50%       3.945946    12.705882    65.470588      317.000000    74.631579   \n75%       4.756757    13.794118    68.833578      418.000000    78.368421   \nmax       8.870968    19.419355    81.687500      843.000000    90.945946   \n\n           opp_rpg      opp_apg      opp_spg      opp_bpg      opp_tpg  \ncount  2394.000000  2394.000000  2394.000000  2394.000000  2394.000000  \nmean     36.289197    14.730228     7.032916     4.078178    12.690743  \nstd       3.040356     1.841865     1.347278     1.219452     1.698798  \nmin      21.482759     9.500000     3.470588     0.750000     7.400000  \n25%      34.400000    13.425325     6.081081     3.216850    11.487179  \n50%      36.303030    14.584770     6.911765     3.945946    12.705882  \n75%      38.292017    15.913655     7.848485     4.756757    13.794118  \nmax      45.548387    21.416667    11.774194     8.870968    19.419355  \n\n[8 rows x 70 columns]",
      "text/html": "<div>\n<style scoped>\n    .dataframe tbody tr th:only-of-type {\n        vertical-align: middle;\n    }\n\n    .dataframe tbody tr th {\n        vertical-align: top;\n    }\n\n    .dataframe thead th {\n        text-align: right;\n    }\n</style>\n<table border=\"1\" class=\"dataframe\">\n  <thead>\n    <tr style=\"text-align: right;\">\n      <th></th>\n      <th>Year</th>\n      <th>Region Number</th>\n      <th>Score</th>\n      <th>Opp_Score</th>\n      <th>Win</th>\n      <th>G</th>\n      <th>W_overall</th>\n      <th>L_overall</th>\n      <th>W-L%</th>\n      <th>SRS</th>\n      <th>...</th>\n      <th>bpg</th>\n      <th>tpg</th>\n      <th>papg</th>\n      <th>opp_point_diff</th>\n      <th>opp_ppg</th>\n      <th>opp_rpg</th>\n      <th>opp_apg</th>\n      <th>opp_spg</th>\n      <th>opp_bpg</th>\n      <th>opp_tpg</th>\n    </tr>\n  </thead>\n  <tbody>\n    <tr>\n      <th>count</th>\n      <td>2394.00000</td>\n      <td>2394.000000</td>\n      <td>2394.000000</td>\n      <td>2394.000000</td>\n      <td>2394.000000</td>\n      <td>2394.000000</td>\n      <td>2394.000000</td>\n      <td>2394.000000</td>\n      <td>2394.000000</td>\n      <td>2394.000000</td>\n      <td>...</td>\n      <td>2394.000000</td>\n      <td>2394.000000</td>\n      <td>2394.000000</td>\n      <td>2394.000000</td>\n      <td>2394.000000</td>\n      <td>2394.000000</td>\n      <td>2394.000000</td>\n      <td>2394.000000</td>\n      <td>2394.000000</td>\n      <td>2394.000000</td>\n    </tr>\n    <tr>\n      <th>mean</th>\n      <td>2010.00000</td>\n      <td>2.444444</td>\n      <td>69.898496</td>\n      <td>69.898496</td>\n      <td>0.500000</td>\n      <td>35.032581</td>\n      <td>26.362155</td>\n      <td>8.670426</td>\n      <td>0.749786</td>\n      <td>14.723154</td>\n      <td>...</td>\n      <td>4.078178</td>\n      <td>12.690743</td>\n      <td>65.630277</td>\n      <td>326.279866</td>\n      <td>74.821341</td>\n      <td>36.289197</td>\n      <td>14.730228</td>\n      <td>7.032916</td>\n      <td>4.078178</td>\n      <td>12.690743</td>\n    </tr>\n    <tr>\n      <th>std</th>\n      <td>5.47837</td>\n      <td>1.123973</td>\n      <td>12.045816</td>\n      <td>12.045816</td>\n      <td>0.500104</td>\n      <td>2.465089</td>\n      <td>4.421059</td>\n      <td>3.094349</td>\n      <td>0.093432</td>\n      <td>7.196261</td>\n      <td>...</td>\n      <td>1.219452</td>\n      <td>1.698798</td>\n      <td>4.654791</td>\n      <td>159.869847</td>\n      <td>5.234050</td>\n      <td>3.040356</td>\n      <td>1.841865</td>\n      <td>1.347278</td>\n      <td>1.219452</td>\n      <td>1.698798</td>\n    </tr>\n    <tr>\n      <th>min</th>\n      <td>2001.00000</td>\n      <td>1.000000</td>\n      <td>29.000000</td>\n      <td>29.000000</td>\n      <td>0.000000</td>\n      <td>27.000000</td>\n      <td>13.000000</td>\n      <td>1.000000</td>\n      <td>0.406000</td>\n      <td>-15.280000</td>\n      <td>...</td>\n      <td>0.750000</td>\n      <td>7.400000</td>\n      <td>50.862069</td>\n      <td>-194.000000</td>\n      <td>57.851852</td>\n      <td>21.482759</td>\n      <td>9.500000</td>\n      <td>3.470588</td>\n      <td>0.750000</td>\n      <td>7.400000</td>\n    </tr>\n    <tr>\n      <th>25%</th>\n      <td>2005.00000</td>\n      <td>1.000000</td>\n      <td>61.000000</td>\n      <td>61.000000</td>\n      <td>0.000000</td>\n      <td>33.000000</td>\n      <td>23.000000</td>\n      <td>7.000000</td>\n      <td>0.677000</td>\n      <td>11.530000</td>\n      <td>...</td>\n      <td>3.216850</td>\n      <td>11.487179</td>\n      <td>62.462242</td>\n      <td>215.000000</td>\n      <td>71.253676</td>\n      <td>34.400000</td>\n      <td>13.425325</td>\n      <td>6.081081</td>\n      <td>3.216850</td>\n      <td>11.487179</td>\n    </tr>\n    <tr>\n      <th>50%</th>\n      <td>2010.00000</td>\n      <td>2.000000</td>\n      <td>70.000000</td>\n      <td>70.000000</td>\n      <td>0.500000</td>\n      <td>35.000000</td>\n      <td>26.000000</td>\n      <td>9.000000</td>\n      <td>0.750000</td>\n      <td>15.700000</td>\n      <td>...</td>\n      <td>3.945946</td>\n      <td>12.705882</td>\n      <td>65.470588</td>\n      <td>317.000000</td>\n      <td>74.631579</td>\n      <td>36.303030</td>\n      <td>14.584770</td>\n      <td>6.911765</td>\n      <td>3.945946</td>\n      <td>12.705882</td>\n    </tr>\n    <tr>\n      <th>75%</th>\n      <td>2015.00000</td>\n      <td>3.000000</td>\n      <td>78.000000</td>\n      <td>78.000000</td>\n      <td>1.000000</td>\n      <td>37.000000</td>\n      <td>29.000000</td>\n      <td>11.000000</td>\n      <td>0.816000</td>\n      <td>19.490000</td>\n      <td>...</td>\n      <td>4.756757</td>\n      <td>13.794118</td>\n      <td>68.833578</td>\n      <td>418.000000</td>\n      <td>78.368421</td>\n      <td>38.292017</td>\n      <td>15.913655</td>\n      <td>7.848485</td>\n      <td>4.756757</td>\n      <td>13.794118</td>\n    </tr>\n    <tr>\n      <th>max</th>\n      <td>2019.00000</td>\n      <td>4.000000</td>\n      <td>121.000000</td>\n      <td>121.000000</td>\n      <td>1.000000</td>\n      <td>41.000000</td>\n      <td>38.000000</td>\n      <td>20.000000</td>\n      <td>0.974000</td>\n      <td>32.180000</td>\n      <td>...</td>\n      <td>8.870968</td>\n      <td>19.419355</td>\n      <td>81.687500</td>\n      <td>843.000000</td>\n      <td>90.945946</td>\n      <td>45.548387</td>\n      <td>21.416667</td>\n      <td>11.774194</td>\n      <td>8.870968</td>\n      <td>19.419355</td>\n    </tr>\n  </tbody>\n</table>\n<p>8 rows × 70 columns</p>\n</div>"
     },
     "execution_count": 10,
     "metadata": {},
     "output_type": "execute_result"
    }
   ],
   "source": [
    "tourney.describe()"
   ]
  },
  {
   "cell_type": "code",
   "execution_count": 11,
   "id": "swiss-laugh",
   "metadata": {},
   "outputs": [
    {
     "data": {
      "text/plain": "([0, 1, 2, 3, 4, 5, 6, 7, 8, 9, 10, 11, 12, 13, 14, 15],\n [Text(0, 0, ''),\n  Text(0, 0, ''),\n  Text(0, 0, ''),\n  Text(0, 0, ''),\n  Text(0, 0, ''),\n  Text(0, 0, ''),\n  Text(0, 0, ''),\n  Text(0, 0, ''),\n  Text(0, 0, ''),\n  Text(0, 0, ''),\n  Text(0, 0, ''),\n  Text(0, 0, ''),\n  Text(0, 0, ''),\n  Text(0, 0, ''),\n  Text(0, 0, ''),\n  Text(0, 0, '')])"
     },
     "execution_count": 11,
     "metadata": {},
     "output_type": "execute_result"
    },
    {
     "data": {
      "text/plain": "<Figure size 432x288 with 1 Axes>",
      "image/png": "[encoded data removed]"
     },
     "metadata": {
      "needs_background": "light"
     },
     "output_type": "display_data"
    }
   ],
   "source": [
    "by_seed = tourney.groupby('Seed').sum().reset_index()\n",
    "plt.bar(x = by_seed['Seed'], height = by_seed['Win'])\n",
    "plt.xticks(rotation = 'vertical')"
   ]
  },
  {
   "cell_type": "code",
   "execution_count": 12,
   "id": "available-forty",
   "metadata": {},
   "outputs": [
    {
     "data": {
      "text/plain": "        Seed    Opp_Seed    Year  Region Number  Score  Opp_Score  Win     G  \\\n0    10_seed  11_seedopp    6041              8    206        214    1   107   \n1    10_seed  15_seedopp    6029              9    221        165    3   106   \n2    10_seed   1_seedopp    6040              8    191        204    1   110   \n3    10_seed   2_seedopp   52268             59   1728       1860    8   900   \n4    10_seed   3_seedopp   14040             17    481        503    2   243   \n..       ...         ...     ...            ...    ...        ...  ...   ...   \n127   9_seed   2_seedopp    2013              2     70         66    1    39   \n128   9_seed   3_seedopp    2018              2     54         58    0    35   \n129   9_seed   4_seedopp    4022              3    149        160    1    67   \n130   9_seed   5_seedopp    4028              2    113        117    1    72   \n131   9_seed   8_seedopp  152760            190   5359       5316   37  2529   \n\n     W_overall  L_overall  ...         bpg         tpg         papg  \\\n0           69         38  ...   14.626744   39.164768   195.387520   \n1           71         35  ...   14.128378   41.003003   199.901037   \n2           75         35  ...   11.923423   35.617117   193.382883   \n3          606        294  ...  105.163438  324.220654  1725.798854   \n4          182         61  ...   29.799020   92.393791   460.516786   \n..         ...        ...  ...         ...         ...          ...   \n127         30          9  ...    4.435897   12.615385    61.153846   \n128         23         12  ...    5.314286   13.028571    72.885714   \n129         45         22  ...    8.908036   26.497321   142.198214   \n130         55         17  ...    4.972973   22.061004   122.087259   \n131       1716        813  ...  297.254677  997.310839  5029.394185   \n\n     opp_point_diff      opp_ppg      opp_rpg      opp_apg     opp_spg  \\\n0               864   222.678078   106.748949    41.599775   19.311111   \n1               714   225.418750   107.043750    40.059821   20.641071   \n2              1675   234.272973   111.410135    50.616892   21.003378   \n3             11204  1992.845496   990.843575   398.501341  174.598032   \n4              2796   532.589599   266.303676   108.009064   53.316291   \n..              ...          ...          ...          ...         ...   \n127             402    70.243243    32.945946    13.324324    6.702703   \n128             423    73.634146    33.341463    14.268293    6.365854   \n129             871   159.389025    79.403767    32.576577   13.354627   \n130             538   148.594595    77.216216    29.594595   12.162162   \n131           17632  5637.727736  2752.509401  1104.154109  505.066446   \n\n        opp_bpg     opp_tpg  \n0      9.177928   34.857057  \n1     12.324107   38.424107  \n2     13.516216   33.324324  \n3    120.846271  332.806918  \n4     36.697034   97.623559  \n..          ...         ...  \n127    4.378378   10.189189  \n128    3.073171    9.243902  \n129    8.621622   26.048321  \n130    8.081081   26.864865  \n131  298.178185  978.071494  \n\n[132 rows x 72 columns]",
      "text/html": "<div>\n<style scoped>\n    .dataframe tbody tr th:only-of-type {\n        vertical-align: middle;\n    }\n\n    .dataframe tbody tr th {\n        vertical-align: top;\n    }\n\n    .dataframe thead th {\n        text-align: right;\n    }\n</style>\n<table border=\"1\" class=\"dataframe\">\n  <thead>\n    <tr style=\"text-align: right;\">\n      <th></th>\n      <th>Seed</th>\n      <th>Opp_Seed</th>\n      <th>Year</th>\n      <th>Region Number</th>\n      <th>Score</th>\n      <th>Opp_Score</th>\n      <th>Win</th>\n      <th>G</th>\n      <th>W_overall</th>\n      <th>L_overall</th>\n      <th>...</th>\n      <th>bpg</th>\n      <th>tpg</th>\n      <th>papg</th>\n      <th>opp_point_diff</th>\n      <th>opp_ppg</th>\n      <th>opp_rpg</th>\n      <th>opp_apg</th>\n      <th>opp_spg</th>\n      <th>opp_bpg</th>\n      <th>opp_tpg</th>\n    </tr>\n  </thead>\n  <tbody>\n    <tr>\n      <th>0</th>\n      <td>10_seed</td>\n      <td>11_seedopp</td>\n      <td>6041</td>\n      <td>8</td>\n      <td>206</td>\n      <td>214</td>\n      <td>1</td>\n      <td>107</td>\n      <td>69</td>\n      <td>38</td>\n      <td>...</td>\n      <td>14.626744</td>\n      <td>39.164768</td>\n      <td>195.387520</td>\n      <td>864</td>\n      <td>222.678078</td>\n      <td>106.748949</td>\n      <td>41.599775</td>\n      <td>19.311111</td>\n      <td>9.177928</td>\n      <td>34.857057</td>\n    </tr>\n    <tr>\n      <th>1</th>\n      <td>10_seed</td>\n      <td>15_seedopp</td>\n      <td>6029</td>\n      <td>9</td>\n      <td>221</td>\n      <td>165</td>\n      <td>3</td>\n      <td>106</td>\n      <td>71</td>\n      <td>35</td>\n      <td>...</td>\n      <td>14.128378</td>\n      <td>41.003003</td>\n      <td>199.901037</td>\n      <td>714</td>\n      <td>225.418750</td>\n      <td>107.043750</td>\n      <td>40.059821</td>\n      <td>20.641071</td>\n      <td>12.324107</td>\n      <td>38.424107</td>\n    </tr>\n    <tr>\n      <th>2</th>\n      <td>10_seed</td>\n      <td>1_seedopp</td>\n      <td>6040</td>\n      <td>8</td>\n      <td>191</td>\n      <td>204</td>\n      <td>1</td>\n      <td>110</td>\n      <td>75</td>\n      <td>35</td>\n      <td>...</td>\n      <td>11.923423</td>\n      <td>35.617117</td>\n      <td>193.382883</td>\n      <td>1675</td>\n      <td>234.272973</td>\n      <td>111.410135</td>\n      <td>50.616892</td>\n      <td>21.003378</td>\n      <td>13.516216</td>\n      <td>33.324324</td>\n    </tr>\n    <tr>\n      <th>3</th>\n      <td>10_seed</td>\n      <td>2_seedopp</td>\n      <td>52268</td>\n      <td>59</td>\n      <td>1728</td>\n      <td>1860</td>\n      <td>8</td>\n      <td>900</td>\n      <td>606</td>\n      <td>294</td>\n      <td>...</td>\n      <td>105.163438</td>\n      <td>324.220654</td>\n      <td>1725.798854</td>\n      <td>11204</td>\n      <td>1992.845496</td>\n      <td>990.843575</td>\n      <td>398.501341</td>\n      <td>174.598032</td>\n      <td>120.846271</td>\n      <td>332.806918</td>\n    </tr>\n    <tr>\n      <th>4</th>\n      <td>10_seed</td>\n      <td>3_seedopp</td>\n      <td>14040</td>\n      <td>17</td>\n      <td>481</td>\n      <td>503</td>\n      <td>2</td>\n      <td>243</td>\n      <td>182</td>\n      <td>61</td>\n      <td>...</td>\n      <td>29.799020</td>\n      <td>92.393791</td>\n      <td>460.516786</td>\n      <td>2796</td>\n      <td>532.589599</td>\n      <td>266.303676</td>\n      <td>108.009064</td>\n      <td>53.316291</td>\n      <td>36.697034</td>\n      <td>97.623559</td>\n    </tr>\n    <tr>\n      <th>...</th>\n      <td>...</td>\n      <td>...</td>\n      <td>...</td>\n      <td>...</td>\n      <td>...</td>\n      <td>...</td>\n      <td>...</td>\n      <td>...</td>\n      <td>...</td>\n      <td>...</td>\n      <td>...</td>\n      <td>...</td>\n      <td>...</td>\n      <td>...</td>\n      <td>...</td>\n      <td>...</td>\n      <td>...</td>\n      <td>...</td>\n      <td>...</td>\n      <td>...</td>\n      <td>...</td>\n    </tr>\n    <tr>\n      <th>127</th>\n      <td>9_seed</td>\n      <td>2_seedopp</td>\n      <td>2013</td>\n      <td>2</td>\n      <td>70</td>\n      <td>66</td>\n      <td>1</td>\n      <td>39</td>\n      <td>30</td>\n      <td>9</td>\n      <td>...</td>\n      <td>4.435897</td>\n      <td>12.615385</td>\n      <td>61.153846</td>\n      <td>402</td>\n      <td>70.243243</td>\n      <td>32.945946</td>\n      <td>13.324324</td>\n      <td>6.702703</td>\n      <td>4.378378</td>\n      <td>10.189189</td>\n    </tr>\n    <tr>\n      <th>128</th>\n      <td>9_seed</td>\n      <td>3_seedopp</td>\n      <td>2018</td>\n      <td>2</td>\n      <td>54</td>\n      <td>58</td>\n      <td>0</td>\n      <td>35</td>\n      <td>23</td>\n      <td>12</td>\n      <td>...</td>\n      <td>5.314286</td>\n      <td>13.028571</td>\n      <td>72.885714</td>\n      <td>423</td>\n      <td>73.634146</td>\n      <td>33.341463</td>\n      <td>14.268293</td>\n      <td>6.365854</td>\n      <td>3.073171</td>\n      <td>9.243902</td>\n    </tr>\n    <tr>\n      <th>129</th>\n      <td>9_seed</td>\n      <td>4_seedopp</td>\n      <td>4022</td>\n      <td>3</td>\n      <td>149</td>\n      <td>160</td>\n      <td>1</td>\n      <td>67</td>\n      <td>45</td>\n      <td>22</td>\n      <td>...</td>\n      <td>8.908036</td>\n      <td>26.497321</td>\n      <td>142.198214</td>\n      <td>871</td>\n      <td>159.389025</td>\n      <td>79.403767</td>\n      <td>32.576577</td>\n      <td>13.354627</td>\n      <td>8.621622</td>\n      <td>26.048321</td>\n    </tr>\n    <tr>\n      <th>130</th>\n      <td>9_seed</td>\n      <td>5_seedopp</td>\n      <td>4028</td>\n      <td>2</td>\n      <td>113</td>\n      <td>117</td>\n      <td>1</td>\n      <td>72</td>\n      <td>55</td>\n      <td>17</td>\n      <td>...</td>\n      <td>4.972973</td>\n      <td>22.061004</td>\n      <td>122.087259</td>\n      <td>538</td>\n      <td>148.594595</td>\n      <td>77.216216</td>\n      <td>29.594595</td>\n      <td>12.162162</td>\n      <td>8.081081</td>\n      <td>26.864865</td>\n    </tr>\n    <tr>\n      <th>131</th>\n      <td>9_seed</td>\n      <td>8_seedopp</td>\n      <td>152760</td>\n      <td>190</td>\n      <td>5359</td>\n      <td>5316</td>\n      <td>37</td>\n      <td>2529</td>\n      <td>1716</td>\n      <td>813</td>\n      <td>...</td>\n      <td>297.254677</td>\n      <td>997.310839</td>\n      <td>5029.394185</td>\n      <td>17632</td>\n      <td>5637.727736</td>\n      <td>2752.509401</td>\n      <td>1104.154109</td>\n      <td>505.066446</td>\n      <td>298.178185</td>\n      <td>978.071494</td>\n    </tr>\n  </tbody>\n</table>\n<p>132 rows × 72 columns</p>\n</div>"
     },
     "execution_count": 12,
     "metadata": {},
     "output_type": "execute_result"
    }
   ],
   "source": [
    "matchups = tourney.groupby(['Seed','Opp_Seed']).sum().reset_index()\n",
    "matchups"
   ]
  },
  {
   "cell_type": "code",
   "execution_count": 13,
   "id": "delayed-sucking",
   "metadata": {},
   "outputs": [
    {
     "data": {
      "text/plain": "<AxesSubplot:xlabel='Win', ylabel='W-L%'>"
     },
     "execution_count": 13,
     "metadata": {},
     "output_type": "execute_result"
    },
    {
     "data": {
      "text/plain": "<Figure size 432x288 with 1 Axes>",
      "image/png": "[encoded data removed]"
     },
     "metadata": {
      "needs_background": "light"
     },
     "output_type": "display_data"
    }
   ],
   "source": [
    "sns.boxplot(x = 'Win',y = 'W-L%' ,data = tourney)"
   ]
  },
  {
   "cell_type": "code",
   "execution_count": 14,
   "id": "competitive-alexander",
   "metadata": {},
   "outputs": [
    {
     "data": {
      "text/plain": "<AxesSubplot:xlabel='Win', ylabel='SRS'>"
     },
     "execution_count": 14,
     "metadata": {},
     "output_type": "execute_result"
    },
    {
     "data": {
      "text/plain": "<Figure size 432x288 with 1 Axes>",
      "image/png": "[encoded data removed]"
     },
     "metadata": {
      "needs_background": "light"
     },
     "output_type": "display_data"
    }
   ],
   "source": [
    "sns.boxplot(x = 'Win',y = 'SRS' ,data = tourney)"
   ]
  },
  {
   "cell_type": "code",
   "execution_count": 15,
   "id": "spare-exclusion",
   "metadata": {},
   "outputs": [
    {
     "data": {
      "text/plain": "<AxesSubplot:xlabel='Win', ylabel='SOS'>"
     },
     "execution_count": 15,
     "metadata": {},
     "output_type": "execute_result"
    },
    {
     "data": {
      "text/plain": "<Figure size 432x288 with 1 Axes>",
      "image/png": "[encoded data removed]"
     },
     "metadata": {
      "needs_background": "light"
     },
     "output_type": "display_data"
    }
   ],
   "source": [
    "sns.boxplot(x = 'Win',y = 'SOS' ,data = tourney)"
   ]
  },
  {
   "cell_type": "code",
   "execution_count": 16,
   "id": "fossil-reliance",
   "metadata": {},
   "outputs": [
    {
     "data": {
      "text/plain": "<AxesSubplot:xlabel='Win', ylabel='FG%'>"
     },
     "execution_count": 16,
     "metadata": {},
     "output_type": "execute_result"
    },
    {
     "data": {
      "text/plain": "<Figure size 432x288 with 1 Axes>",
      "image/png": "[encoded data removed]"
     },
     "metadata": {
      "needs_background": "light"
     },
     "output_type": "display_data"
    }
   ],
   "source": [
    "sns.boxplot(x = 'Win',y = 'FG%' ,data = tourney)"
   ]
  },
  {
   "cell_type": "code",
   "execution_count": 17,
   "id": "rocky-hearing",
   "metadata": {},
   "outputs": [
    {
     "data": {
      "text/plain": "<AxesSubplot:xlabel='Win', ylabel='3P%'>"
     },
     "execution_count": 17,
     "metadata": {},
     "output_type": "execute_result"
    },
    {
     "data": {
      "text/plain": "<Figure size 432x288 with 1 Axes>",
      "image/png": "[encoded data removed]"
     },
     "metadata": {
      "needs_background": "light"
     },
     "output_type": "display_data"
    }
   ],
   "source": [
    "sns.boxplot(x = 'Win',y = '3P%' ,data = tourney)"
   ]
  },
  {
   "cell_type": "code",
   "execution_count": 18,
   "id": "registered-community",
   "metadata": {},
   "outputs": [
    {
     "data": {
      "text/plain": "<AxesSubplot:xlabel='Win', ylabel='FT%'>"
     },
     "execution_count": 18,
     "metadata": {},
     "output_type": "execute_result"
    },
    {
     "data": {
      "text/plain": "<Figure size 432x288 with 1 Axes>",
      "image/png": "[encoded data removed]"
     },
     "metadata": {
      "needs_background": "light"
     },
     "output_type": "display_data"
    }
   ],
   "source": [
    "sns.boxplot(x = 'Win',y = 'FT%' ,data = tourney)"
   ]
  },
  {
   "cell_type": "code",
   "execution_count": 19,
   "id": "indian-fireplace",
   "metadata": {},
   "outputs": [
    {
     "data": {
      "text/plain": "<AxesSubplot:xlabel='Win', ylabel='rpg'>"
     },
     "execution_count": 19,
     "metadata": {},
     "output_type": "execute_result"
    },
    {
     "data": {
      "text/plain": "<Figure size 432x288 with 1 Axes>",
      "image/png": "[encoded data removed]"
     },
     "metadata": {
      "needs_background": "light"
     },
     "output_type": "display_data"
    }
   ],
   "source": [
    "sns.boxplot(x = 'Win',y = 'rpg' ,data = tourney)"
   ]
  },
  {
   "cell_type": "code",
   "execution_count": 20,
   "id": "direct-blogger",
   "metadata": {},
   "outputs": [
    {
     "data": {
      "text/plain": "<AxesSubplot:xlabel='Win', ylabel='apg'>"
     },
     "execution_count": 20,
     "metadata": {},
     "output_type": "execute_result"
    },
    {
     "data": {
      "text/plain": "<Figure size 432x288 with 1 Axes>",
      "image/png": "[encoded data removed]"
     },
     "metadata": {
      "needs_background": "light"
     },
     "output_type": "display_data"
    }
   ],
   "source": [
    "sns.boxplot(x = 'Win',y = 'apg' ,data = tourney)"
   ]
  },
  {
   "cell_type": "code",
   "execution_count": 21,
   "id": "normal-norway",
   "metadata": {},
   "outputs": [
    {
     "data": {
      "text/plain": "<AxesSubplot:xlabel='Win', ylabel='spg'>"
     },
     "execution_count": 21,
     "metadata": {},
     "output_type": "execute_result"
    },
    {
     "data": {
      "text/plain": "<Figure size 432x288 with 1 Axes>",
      "image/png": "[encoded data removed]"
     },
     "metadata": {
      "needs_background": "light"
     },
     "output_type": "display_data"
    }
   ],
   "source": [
    "sns.boxplot(x = 'Win',y = 'spg' ,data = tourney)"
   ]
  },
  {
   "cell_type": "code",
   "execution_count": 22,
   "id": "qualified-grammar",
   "metadata": {},
   "outputs": [
    {
     "data": {
      "text/plain": "<AxesSubplot:xlabel='Win', ylabel='bpg'>"
     },
     "execution_count": 22,
     "metadata": {},
     "output_type": "execute_result"
    },
    {
     "data": {
      "text/plain": "<Figure size 432x288 with 1 Axes>",
      "image/png": "[encoded data removed]"
     },
     "metadata": {
      "needs_background": "light"
     },
     "output_type": "display_data"
    }
   ],
   "source": [
    "sns.boxplot(x = 'Win',y = 'bpg' ,data = tourney)"
   ]
  },
  {
   "cell_type": "code",
   "execution_count": 23,
   "id": "active-contest",
   "metadata": {},
   "outputs": [
    {
     "data": {
      "text/plain": "<AxesSubplot:xlabel='Win', ylabel='point_diff'>"
     },
     "execution_count": 23,
     "metadata": {},
     "output_type": "execute_result"
    },
    {
     "data": {
      "text/plain": "<Figure size 432x288 with 1 Axes>",
      "image/png": "[encoded data removed]"
     },
     "metadata": {
      "needs_background": "light"
     },
     "output_type": "display_data"
    }
   ],
   "source": [
    "sns.boxplot(x = 'Win',y = 'point_diff' ,data = tourney)"
   ]
  },
  {
   "cell_type": "code",
   "execution_count": 24,
   "id": "quantitative-marsh",
   "metadata": {},
   "outputs": [
    {
     "data": {
      "text/plain": "<AxesSubplot:xlabel='Win', ylabel='tpg'>"
     },
     "execution_count": 24,
     "metadata": {},
     "output_type": "execute_result"
    },
    {
     "data": {
      "text/plain": "<Figure size 432x288 with 1 Axes>",
      "image/png": "[encoded data removed]"
     },
     "metadata": {
      "needs_background": "light"
     },
     "output_type": "display_data"
    }
   ],
   "source": [
    "sns.boxplot(x = 'Win',y = 'tpg' ,data = tourney)"
   ]
  },
  {
   "cell_type": "code",
   "execution_count": 25,
   "id": "instrumental-continuity",
   "metadata": {},
   "outputs": [
    {
     "data": {
      "text/plain": "<AxesSubplot:xlabel='Win', ylabel='opp_point_diff'>"
     },
     "execution_count": 25,
     "metadata": {},
     "output_type": "execute_result"
    },
    {
     "data": {
      "text/plain": "<Figure size 432x288 with 1 Axes>",
      "image/png": "[encoded data removed]"
     },
     "metadata": {
      "needs_background": "light"
     },
     "output_type": "display_data"
    }
   ],
   "source": [
    "sns.boxplot(x = 'Win',y = 'opp_point_diff' ,data = tourney)"
   ]
  },
  {
   "cell_type": "code",
   "execution_count": 26,
   "id": "lesser-blowing",
   "metadata": {},
   "outputs": [
    {
     "data": {
      "text/plain": "<AxesSubplot:xlabel='Win', ylabel='Opp_SRS'>"
     },
     "execution_count": 26,
     "metadata": {},
     "output_type": "execute_result"
    },
    {
     "data": {
      "text/plain": "<Figure size 432x288 with 1 Axes>",
      "image/png": "[encoded data removed]"
     },
     "metadata": {
      "needs_background": "light"
     },
     "output_type": "display_data"
    }
   ],
   "source": [
    "sns.boxplot(x = 'Win',y = 'Opp_SRS' ,data = tourney)"
   ]
  },
  {
   "cell_type": "code",
   "execution_count": 27,
   "id": "cutting-livestock",
   "metadata": {},
   "outputs": [
    {
     "data": {
      "text/plain": "<AxesSubplot:xlabel='Win', ylabel='Opp_WLRat'>"
     },
     "execution_count": 27,
     "metadata": {},
     "output_type": "execute_result"
    },
    {
     "data": {
      "text/plain": "<Figure size 432x288 with 1 Axes>",
      "image/png": "[encoded data removed]"
     },
     "metadata": {
      "needs_background": "light"
     },
     "output_type": "display_data"
    }
   ],
   "source": [
    "sns.boxplot(x = 'Win',y = 'Opp_WLRat' ,data = tourney)"
   ]
  },
  {
   "cell_type": "code",
   "execution_count": 27,
   "id": "perceived-tooth",
   "metadata": {},
   "outputs": [],
   "source": []
  },
  {
   "cell_type": "markdown",
   "id": "headed-browse",
   "metadata": {},
   "source": [
    "## Models"
   ]
  },
  {
   "cell_type": "code",
   "execution_count": 28,
   "id": "cardiac-adjustment",
   "metadata": {},
   "outputs": [],
   "source": [
    "from sklearn.model_selection import train_test_split\n",
    "round1 = tourney[tourney['Round'] == 1]\n",
    "y = tourney['Win']\n",
    "X = tourney[['W-L%','SRS','SOS','point_diff','FG%','Opp_WLRat','Opp_SRS','opp_point_diff','Opp_SOS','Opp_FGperc']]\n",
    "X = pd.concat([X,pd.get_dummies(tourney['Seed']),pd.get_dummies(tourney['Opp_Seed'])], axis = 1)\n",
    "X = X.drop(['16_seed','16_seedopp'], axis = 1)\n",
    "X_train, X_test, y_train, y_test = train_test_split(X, y, test_size=0.30, random_state=42)"
   ]
  },
  {
   "cell_type": "code",
   "execution_count": 29,
   "id": "patient-commission",
   "metadata": {},
   "outputs": [
    {
     "data": {
      "text/plain": "      Year    Round  Region Number   Region Name     Seed  Score  \\\n0     2001  1_round              1       Midwest   1_seed     96   \n1     2001  1_round              1       Midwest  16_seed     54   \n2     2001  1_round              1       Midwest   2_seed    101   \n3     2001  1_round              1       Midwest  15_seed     76   \n4     2001  1_round              1       Midwest   3_seed     72   \n...    ...      ...            ...           ...      ...    ...   \n2389  2019  5_round              1    Final Four   3_seed     61   \n2390  2019  5_round              2    Final Four   1_seed     63   \n2391  2019  5_round              2    Final Four   5_seed     62   \n2392  2019  6_round              1  Championship   3_seed     77   \n2393  2019  6_round              1  Championship   1_seed     85   \n\n                  Team          Opponent  Opp_Score    Opp_Seed  ...  \\\n0             Illinois   Northwestern St         54  16_seedopp  ...   \n1      Northwestern St          Illinois         96   1_seedopp  ...   \n2              Arizona  Eastern Illinois         76  15_seedopp  ...   \n3     Eastern Illinois           Arizona        101   2_seedopp  ...   \n4             Ole Miss              Iona         70  14_seedopp  ...   \n...                ...               ...        ...         ...  ...   \n2389        Texas Tech       Michigan St         51   2_seedopp  ...   \n2390          Virginia            Auburn         62   5_seedopp  ...   \n2391            Auburn          Virginia         63   1_seedopp  ...   \n2392        Texas Tech          Virginia         85   1_seedopp  ...   \n2393          Virginia        Texas Tech         77   3_seedopp  ...   \n\n           bpg        tpg       papg  opp_point_diff    opp_ppg    opp_rpg  \\\n0     4.171429  14.971429  65.914286            -105  71.625000  36.812500   \n1     4.156250  16.781250  74.906250             418  77.857143  40.000000   \n2     4.416667  15.166667  66.277778             125  82.709677  36.258065   \n3     3.741935  13.774194  78.677419             540  81.277778  39.805556   \n4     3.285714  14.285714  64.628571             174  77.242424  37.545455   \n...        ...        ...        ...             ...        ...        ...   \n2389  4.894737  12.026316  59.500000             491  77.564103  40.487179   \n2390  3.921053   9.000000  56.105263             438  79.700000  34.225000   \n2391  4.750000  11.650000  68.750000             582  71.421053  34.894737   \n2392  4.894737  12.026316  59.500000             582  71.421053  34.894737   \n2393  3.921053   9.000000  56.105263             504  72.763158  34.131579   \n\n        opp_apg   opp_spg   opp_bpg    opp_tpg  \n0     12.250000  9.625000  4.156250  16.781250  \n1     15.714286  7.685714  4.171429  14.971429  \n2     16.580645  6.354839  3.741935  13.774194  \n3     16.250000  7.861111  4.416667  15.166667  \n4     14.575758  7.848485  5.545455  16.878788  \n...         ...       ...       ...        ...  \n2389  18.333333  5.153846  5.256410  12.641026  \n2390  14.300000  9.225000  4.750000  11.650000  \n2391  14.315789  5.552632  3.921053   9.000000  \n2392  14.315789  5.552632  3.921053   9.000000  \n2393  13.631579  7.315789  4.894737  12.026316  \n\n[2394 rows x 76 columns]",
      "text/html": "<div>\n<style scoped>\n    .dataframe tbody tr th:only-of-type {\n        vertical-align: middle;\n    }\n\n    .dataframe tbody tr th {\n        vertical-align: top;\n    }\n\n    .dataframe thead th {\n        text-align: right;\n    }\n</style>\n<table border=\"1\" class=\"dataframe\">\n  <thead>\n    <tr style=\"text-align: right;\">\n      <th></th>\n      <th>Year</th>\n      <th>Round</th>\n      <th>Region Number</th>\n      <th>Region Name</th>\n      <th>Seed</th>\n      <th>Score</th>\n      <th>Team</th>\n      <th>Opponent</th>\n      <th>Opp_Score</th>\n      <th>Opp_Seed</th>\n      <th>...</th>\n      <th>bpg</th>\n      <th>tpg</th>\n      <th>papg</th>\n      <th>opp_point_diff</th>\n      <th>opp_ppg</th>\n      <th>opp_rpg</th>\n      <th>opp_apg</th>\n      <th>opp_spg</th>\n      <th>opp_bpg</th>\n      <th>opp_tpg</th>\n    </tr>\n  </thead>\n  <tbody>\n    <tr>\n      <th>0</th>\n      <td>2001</td>\n      <td>1_round</td>\n      <td>1</td>\n      <td>Midwest</td>\n      <td>1_seed</td>\n      <td>96</td>\n      <td>Illinois</td>\n      <td>Northwestern St</td>\n      <td>54</td>\n      <td>16_seedopp</td>\n      <td>...</td>\n      <td>4.171429</td>\n      <td>14.971429</td>\n      <td>65.914286</td>\n      <td>-105</td>\n      <td>71.625000</td>\n      <td>36.812500</td>\n      <td>12.250000</td>\n      <td>9.625000</td>\n      <td>4.156250</td>\n      <td>16.781250</td>\n    </tr>\n    <tr>\n      <th>1</th>\n      <td>2001</td>\n      <td>1_round</td>\n      <td>1</td>\n      <td>Midwest</td>\n      <td>16_seed</td>\n      <td>54</td>\n      <td>Northwestern St</td>\n      <td>Illinois</td>\n      <td>96</td>\n      <td>1_seedopp</td>\n      <td>...</td>\n      <td>4.156250</td>\n      <td>16.781250</td>\n      <td>74.906250</td>\n      <td>418</td>\n      <td>77.857143</td>\n      <td>40.000000</td>\n      <td>15.714286</td>\n      <td>7.685714</td>\n      <td>4.171429</td>\n      <td>14.971429</td>\n    </tr>\n    <tr>\n      <th>2</th>\n      <td>2001</td>\n      <td>1_round</td>\n      <td>1</td>\n      <td>Midwest</td>\n      <td>2_seed</td>\n      <td>101</td>\n      <td>Arizona</td>\n      <td>Eastern Illinois</td>\n      <td>76</td>\n      <td>15_seedopp</td>\n      <td>...</td>\n      <td>4.416667</td>\n      <td>15.166667</td>\n      <td>66.277778</td>\n      <td>125</td>\n      <td>82.709677</td>\n      <td>36.258065</td>\n      <td>16.580645</td>\n      <td>6.354839</td>\n      <td>3.741935</td>\n      <td>13.774194</td>\n    </tr>\n    <tr>\n      <th>3</th>\n      <td>2001</td>\n      <td>1_round</td>\n      <td>1</td>\n      <td>Midwest</td>\n      <td>15_seed</td>\n      <td>76</td>\n      <td>Eastern Illinois</td>\n      <td>Arizona</td>\n      <td>101</td>\n      <td>2_seedopp</td>\n      <td>...</td>\n      <td>3.741935</td>\n      <td>13.774194</td>\n      <td>78.677419</td>\n      <td>540</td>\n      <td>81.277778</td>\n      <td>39.805556</td>\n      <td>16.250000</td>\n      <td>7.861111</td>\n      <td>4.416667</td>\n      <td>15.166667</td>\n    </tr>\n    <tr>\n      <th>4</th>\n      <td>2001</td>\n      <td>1_round</td>\n      <td>1</td>\n      <td>Midwest</td>\n      <td>3_seed</td>\n      <td>72</td>\n      <td>Ole Miss</td>\n      <td>Iona</td>\n      <td>70</td>\n      <td>14_seedopp</td>\n      <td>...</td>\n      <td>3.285714</td>\n      <td>14.285714</td>\n      <td>64.628571</td>\n      <td>174</td>\n      <td>77.242424</td>\n      <td>37.545455</td>\n      <td>14.575758</td>\n      <td>7.848485</td>\n      <td>5.545455</td>\n      <td>16.878788</td>\n    </tr>\n    <tr>\n      <th>...</th>\n      <td>...</td>\n      <td>...</td>\n      <td>...</td>\n      <td>...</td>\n      <td>...</td>\n      <td>...</td>\n      <td>...</td>\n      <td>...</td>\n      <td>...</td>\n      <td>...</td>\n      <td>...</td>\n      <td>...</td>\n      <td>...</td>\n      <td>...</td>\n      <td>...</td>\n      <td>...</td>\n      <td>...</td>\n      <td>...</td>\n      <td>...</td>\n      <td>...</td>\n      <td>...</td>\n    </tr>\n    <tr>\n      <th>2389</th>\n      <td>2019</td>\n      <td>5_round</td>\n      <td>1</td>\n      <td>Final Four</td>\n      <td>3_seed</td>\n      <td>61</td>\n      <td>Texas Tech</td>\n      <td>Michigan St</td>\n      <td>51</td>\n      <td>2_seedopp</td>\n      <td>...</td>\n      <td>4.894737</td>\n      <td>12.026316</td>\n      <td>59.500000</td>\n      <td>491</td>\n      <td>77.564103</td>\n      <td>40.487179</td>\n      <td>18.333333</td>\n      <td>5.153846</td>\n      <td>5.256410</td>\n      <td>12.641026</td>\n    </tr>\n    <tr>\n      <th>2390</th>\n      <td>2019</td>\n      <td>5_round</td>\n      <td>2</td>\n      <td>Final Four</td>\n      <td>1_seed</td>\n      <td>63</td>\n      <td>Virginia</td>\n      <td>Auburn</td>\n      <td>62</td>\n      <td>5_seedopp</td>\n      <td>...</td>\n      <td>3.921053</td>\n      <td>9.000000</td>\n      <td>56.105263</td>\n      <td>438</td>\n      <td>79.700000</td>\n      <td>34.225000</td>\n      <td>14.300000</td>\n      <td>9.225000</td>\n      <td>4.750000</td>\n      <td>11.650000</td>\n    </tr>\n    <tr>\n      <th>2391</th>\n      <td>2019</td>\n      <td>5_round</td>\n      <td>2</td>\n      <td>Final Four</td>\n      <td>5_seed</td>\n      <td>62</td>\n      <td>Auburn</td>\n      <td>Virginia</td>\n      <td>63</td>\n      <td>1_seedopp</td>\n      <td>...</td>\n      <td>4.750000</td>\n      <td>11.650000</td>\n      <td>68.750000</td>\n      <td>582</td>\n      <td>71.421053</td>\n      <td>34.894737</td>\n      <td>14.315789</td>\n      <td>5.552632</td>\n      <td>3.921053</td>\n      <td>9.000000</td>\n    </tr>\n    <tr>\n      <th>2392</th>\n      <td>2019</td>\n      <td>6_round</td>\n      <td>1</td>\n      <td>Championship</td>\n      <td>3_seed</td>\n      <td>77</td>\n      <td>Texas Tech</td>\n      <td>Virginia</td>\n      <td>85</td>\n      <td>1_seedopp</td>\n      <td>...</td>\n      <td>4.894737</td>\n      <td>12.026316</td>\n      <td>59.500000</td>\n      <td>582</td>\n      <td>71.421053</td>\n      <td>34.894737</td>\n      <td>14.315789</td>\n      <td>5.552632</td>\n      <td>3.921053</td>\n      <td>9.000000</td>\n    </tr>\n    <tr>\n      <th>2393</th>\n      <td>2019</td>\n      <td>6_round</td>\n      <td>1</td>\n      <td>Championship</td>\n      <td>1_seed</td>\n      <td>85</td>\n      <td>Virginia</td>\n      <td>Texas Tech</td>\n      <td>77</td>\n      <td>3_seedopp</td>\n      <td>...</td>\n      <td>3.921053</td>\n      <td>9.000000</td>\n      <td>56.105263</td>\n      <td>504</td>\n      <td>72.763158</td>\n      <td>34.131579</td>\n      <td>13.631579</td>\n      <td>7.315789</td>\n      <td>4.894737</td>\n      <td>12.026316</td>\n    </tr>\n  </tbody>\n</table>\n<p>2394 rows × 76 columns</p>\n</div>"
     },
     "execution_count": 29,
     "metadata": {},
     "output_type": "execute_result"
    }
   ],
   "source": [
    "tourney"
   ]
  },
  {
   "cell_type": "code",
   "execution_count": 30,
   "id": "gorgeous-windsor",
   "metadata": {},
   "outputs": [],
   "source": [
    "from sklearn.linear_model import LogisticRegression\n",
    "lr = LogisticRegression(max_iter = 2000)\n",
    "lr.fit(X_train,y_train)\n",
    "predicted = lr.predict(X_test)"
   ]
  },
  {
   "cell_type": "code",
   "execution_count": 31,
   "id": "brave-olympus",
   "metadata": {},
   "outputs": [
    {
     "data": {
      "text/plain": "([0,\n  1,\n  2,\n  3,\n  4,\n  5,\n  6,\n  7,\n  8,\n  9,\n  10,\n  11,\n  12,\n  13,\n  14,\n  15,\n  16,\n  17,\n  18,\n  19,\n  20,\n  21,\n  22,\n  23,\n  24,\n  25,\n  26,\n  27,\n  28,\n  29,\n  30,\n  31,\n  32,\n  33,\n  34,\n  35,\n  36,\n  37,\n  38,\n  39],\n [Text(0, 0, ''),\n  Text(0, 0, ''),\n  Text(0, 0, ''),\n  Text(0, 0, ''),\n  Text(0, 0, ''),\n  Text(0, 0, ''),\n  Text(0, 0, ''),\n  Text(0, 0, ''),\n  Text(0, 0, ''),\n  Text(0, 0, ''),\n  Text(0, 0, ''),\n  Text(0, 0, ''),\n  Text(0, 0, ''),\n  Text(0, 0, ''),\n  Text(0, 0, ''),\n  Text(0, 0, ''),\n  Text(0, 0, ''),\n  Text(0, 0, ''),\n  Text(0, 0, ''),\n  Text(0, 0, ''),\n  Text(0, 0, ''),\n  Text(0, 0, ''),\n  Text(0, 0, ''),\n  Text(0, 0, ''),\n  Text(0, 0, ''),\n  Text(0, 0, ''),\n  Text(0, 0, ''),\n  Text(0, 0, ''),\n  Text(0, 0, ''),\n  Text(0, 0, ''),\n  Text(0, 0, ''),\n  Text(0, 0, ''),\n  Text(0, 0, ''),\n  Text(0, 0, ''),\n  Text(0, 0, ''),\n  Text(0, 0, ''),\n  Text(0, 0, ''),\n  Text(0, 0, ''),\n  Text(0, 0, ''),\n  Text(0, 0, '')])"
     },
     "execution_count": 31,
     "metadata": {},
     "output_type": "execute_result"
    },
    {
     "data": {
      "text/plain": "<Figure size 432x288 with 1 Axes>",
      "image/png": "[encoded data removed]"
     },
     "metadata": {
      "needs_background": "light"
     },
     "output_type": "display_data"
    }
   ],
   "source": [
    "coef = lr.coef_[0]\n",
    "coef = pd.Series(coef)\n",
    "coef.index = X.columns\n",
    "coef = coef.sort_values(ascending = False)\n",
    "plt.bar(coef.index,coef)\n",
    "plt.xticks(rotation = 'vertical')"
   ]
  },
  {
   "cell_type": "code",
   "execution_count": 32,
   "id": "wicked-remove",
   "metadata": {},
   "outputs": [
    {
     "name": "stderr",
     "output_type": "stream",
     "text": [
      "<ipython-input-32-34976d41f194>:1: SettingWithCopyWarning: \n",
      "A value is trying to be set on a copy of a slice from a DataFrame.\n",
      "Try using .loc[row_indexer,col_indexer] = value instead\n",
      "\n",
      "See the caveats in the documentation: https://pandas.pydata.org/pandas-docs/stable/user_guide/indexing.html#returning-a-view-versus-a-copy\n",
      "  X_test['label'] = predicted\n"
     ]
    }
   ],
   "source": [
    "X_test['label'] = predicted"
   ]
  },
  {
   "cell_type": "code",
   "execution_count": 33,
   "id": "surrounded-detail",
   "metadata": {},
   "outputs": [
    {
     "data": {
      "text/plain": "array([[288,  70],\n       [ 86, 275]], dtype=int64)"
     },
     "execution_count": 33,
     "metadata": {},
     "output_type": "execute_result"
    }
   ],
   "source": [
    "from sklearn.metrics import confusion_matrix,precision_score,recall_score,f1_score\n",
    "confusion_matrix(y_test,predicted)"
   ]
  },
  {
   "cell_type": "code",
   "execution_count": 34,
   "id": "fallen-richmond",
   "metadata": {},
   "outputs": [
    {
     "name": "stdout",
     "output_type": "stream",
     "text": [
      "0.7971014492753623\n",
      "0.7617728531855956\n",
      "0.7790368271954674\n"
     ]
    }
   ],
   "source": [
    "print(precision_score(y_test,predicted))\n",
    "print(recall_score(y_test,predicted))\n",
    "print(f1_score(y_test,predicted))"
   ]
  },
  {
   "cell_type": "code",
   "execution_count": 35,
   "id": "interim-mortality",
   "metadata": {},
   "outputs": [
    {
     "name": "stderr",
     "output_type": "stream",
     "text": [
      "<ipython-input-35-6fb81695ad99>:3: SettingWithCopyWarning: \n",
      "A value is trying to be set on a copy of a slice from a DataFrame.\n",
      "Try using .loc[row_indexer,col_indexer] = value instead\n",
      "\n",
      "See the caveats in the documentation: https://pandas.pydata.org/pandas-docs/stable/user_guide/indexing.html#returning-a-view-versus-a-copy\n",
      "  X['Seed'] = X['Seed'].apply(lambda x: int(x.split(\"_\")[0]))\n",
      "<ipython-input-35-6fb81695ad99>:5: SettingWithCopyWarning: \n",
      "A value is trying to be set on a copy of a slice from a DataFrame.\n",
      "Try using .loc[row_indexer,col_indexer] = value instead\n",
      "\n",
      "See the caveats in the documentation: https://pandas.pydata.org/pandas-docs/stable/user_guide/indexing.html#returning-a-view-versus-a-copy\n",
      "  X['Opp_Seed'] = X['Opp_Seed'].apply(lambda x: int(x.split(\"_\")[0]))\n"
     ]
    },
    {
     "name": "stdout",
     "output_type": "stream",
     "text": [
      "0        1\n",
      "1       16\n",
      "2        2\n",
      "3       15\n",
      "4        3\n",
      "        ..\n",
      "2389     3\n",
      "2390     1\n",
      "2391     5\n",
      "2392     3\n",
      "2393     1\n",
      "Name: Seed, Length: 2394, dtype: int64\n"
     ]
    }
   ],
   "source": [
    "from sklearn.ensemble import RandomForestClassifier\n",
    "X = tourney[['W-L%','FG%','Seed','SRS','SOS','point_diff','Opp_Seed','Opp_WLRat','Opp_SRS','opp_point_diff','Opp_SOS']]\n",
    "X['Seed'] = X['Seed'].apply(lambda x: int(x.split(\"_\")[0]))\n",
    "print(X['Seed'])\n",
    "X['Opp_Seed'] = X['Opp_Seed'].apply(lambda x: int(x.split(\"_\")[0]))\n",
    "X_train, X_test, y_train, y_test = train_test_split(X, y, test_size=0.30, random_state=42)\n",
    "rf = RandomForestClassifier()\n",
    "rf.fit(X_train,y_train)\n",
    "predicted = rf.predict(X_test)"
   ]
  },
  {
   "cell_type": "code",
   "execution_count": 36,
   "id": "worthy-punishment",
   "metadata": {},
   "outputs": [
    {
     "data": {
      "text/plain": "([0, 1, 2, 3, 4, 5, 6, 7, 8, 9, 10],\n [Text(0, 0, ''),\n  Text(0, 0, ''),\n  Text(0, 0, ''),\n  Text(0, 0, ''),\n  Text(0, 0, ''),\n  Text(0, 0, ''),\n  Text(0, 0, ''),\n  Text(0, 0, ''),\n  Text(0, 0, ''),\n  Text(0, 0, ''),\n  Text(0, 0, '')])"
     },
     "execution_count": 36,
     "metadata": {},
     "output_type": "execute_result"
    },
    {
     "data": {
      "text/plain": "<Figure size 432x288 with 1 Axes>",
      "image/png": "[encoded data removed]"
     },
     "metadata": {
      "needs_background": "light"
     },
     "output_type": "display_data"
    }
   ],
   "source": [
    "fi = rf.feature_importances_\n",
    "fi = pd.Series(fi)\n",
    "fi.index = X.columns\n",
    "fi = fi.sort_values(ascending = False)\n",
    "plt.bar(fi.index,fi)\n",
    "plt.xticks(rotation = 'vertical')"
   ]
  },
  {
   "cell_type": "code",
   "execution_count": 37,
   "id": "equipped-ceremony",
   "metadata": {},
   "outputs": [
    {
     "data": {
      "text/plain": "array([[279,  79],\n       [101, 260]], dtype=int64)"
     },
     "execution_count": 37,
     "metadata": {},
     "output_type": "execute_result"
    }
   ],
   "source": [
    "confusion_matrix(y_test,predicted)"
   ]
  },
  {
   "cell_type": "code",
   "execution_count": 38,
   "id": "boolean-marriage",
   "metadata": {},
   "outputs": [
    {
     "name": "stdout",
     "output_type": "stream",
     "text": [
      "0.7669616519174042\n",
      "0.7202216066481995\n",
      "0.742857142857143\n"
     ]
    }
   ],
   "source": [
    "print(precision_score(y_test,predicted))\n",
    "print(recall_score(y_test,predicted))\n",
    "print(f1_score(y_test,predicted))"
   ]
  },
  {
   "cell_type": "markdown",
   "id": "digital-yield",
   "metadata": {},
   "source": [
    "## Run Model on Prediction Data"
   ]
  },
  {
   "cell_type": "code",
   "execution_count": 39,
   "id": "needed-printing",
   "metadata": {},
   "outputs": [
    {
     "data": {
      "text/plain": "LogisticRegression(max_iter=2000)"
     },
     "execution_count": 39,
     "metadata": {},
     "output_type": "execute_result"
    }
   ],
   "source": [
    "lr = LogisticRegression(max_iter = 2000)\n",
    "y = tourney['Win']\n",
    "X = tourney[['W-L%','SRS','SOS','point_diff','FG%','Opp_WLRat','Opp_SRS','opp_point_diff','Opp_SOS','Opp_FGperc']]\n",
    "X = pd.concat([X,pd.get_dummies(tourney['Seed']),pd.get_dummies(tourney['Opp_Seed'])], axis = 1)\n",
    "X = X.drop(['16_seed','16_seedopp'], axis = 1)\n",
    "prediction_data = pd.concat([prediction_data,pd.get_dummies(prediction_data['Seed']),pd.get_dummies(prediction_data['Opp_Seed'])], axis = 1)\n",
    "prediction_data = prediction_data.drop(['16_seed','16_seedopp'], axis = 1)\n",
    "lr.fit(X,y)"
   ]
  },
  {
   "cell_type": "code",
   "execution_count": 40,
   "id": "unauthorized-specific",
   "metadata": {},
   "outputs": [],
   "source": [
    "final_predictions = lr.predict(prediction_data[X.columns])"
   ]
  },
  {
   "cell_type": "code",
   "execution_count": 41,
   "id": "taken-korea",
   "metadata": {},
   "outputs": [],
   "source": [
    "prediction_data['label'] = final_predictions"
   ]
  },
  {
   "cell_type": "code",
   "execution_count": 41,
   "id": "latter-dollar",
   "metadata": {},
   "outputs": [],
   "source": []
  },
  {
   "cell_type": "code",
   "execution_count": 41,
   "id": "lined-holmes",
   "metadata": {},
   "outputs": [],
   "source": []
  }
 ],
 "metadata": {
  "kernelspec": {
   "display_name": "Python 3",
   "language": "python",
   "name": "python3"
  },
  "language_info": {
   "codemirror_mode": {
    "name": "ipython",
    "version": 3
   },
   "file_extension": ".py",
   "mimetype": "text/x-python",
   "name": "python",
   "nbconvert_exporter": "python",
   "pygments_lexer": "ipython3",
   "version": "3.8.5"
  }
 },
 "nbformat": 4,
 "nbformat_minor": 5
}