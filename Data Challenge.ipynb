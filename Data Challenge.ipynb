{
 "cells": [
  {
   "cell_type": "markdown",
   "metadata": {},
   "source": [
    "This should be run in the directory that contains the original dataset. No further processes should be needed as it will adjust the data as needed in the file."
   ]
  },
  {
   "cell_type": "code",
   "execution_count": 1,
   "metadata": {},
   "outputs": [],
   "source": [
    "import numpy as np \n",
    "import pandas as pd\n",
    "import matplotlib.pyplot as plt\n",
    "import seaborn as sns\n",
    "\n",
    "from sklearn.model_selection import train_test_split\n",
    "from sklearn.preprocessing import StandardScaler\n",
    "from sklearn.metrics import confusion_matrix,accuracy_score,roc_curve,classification_report\n",
    "from sklearn.linear_model import LogisticRegression\n",
    "from sklearn.naive_bayes import GaussianNB\n",
    "from sklearn.ensemble import RandomForestClassifier\n",
    "from sklearn.tree import DecisionTreeClassifier\n",
    "from sklearn.neighbors import KNeighborsClassifier\n",
    "from sklearn.naive_bayes import GaussianNB\n",
    "from sklearn.svm import SVC\n",
    "from sklearn.model_selection import RandomizedSearchCV, GridSearchCV\n",
    "\n",
    "from IPython.display import display, HTML"
   ]
  },
  {
   "cell_type": "markdown",
   "metadata": {},
   "source": [
    "Read in data set and investigate the head"
   ]
  },
  {
   "cell_type": "code",
   "execution_count": 124,
   "metadata": {},
   "outputs": [
    {
     "data": {
      "text/html": [
       "<div>\n",
       "<style scoped>\n",
       "    .dataframe tbody tr th:only-of-type {\n",
       "        vertical-align: middle;\n",
       "    }\n",
       "\n",
       "    .dataframe tbody tr th {\n",
       "        vertical-align: top;\n",
       "    }\n",
       "\n",
       "    .dataframe thead th {\n",
       "        text-align: right;\n",
       "    }\n",
       "</style>\n",
       "<table border=\"1\" class=\"dataframe\">\n",
       "  <thead>\n",
       "    <tr style=\"text-align: right;\">\n",
       "      <th></th>\n",
       "      <th>age</th>\n",
       "      <th>anaemia</th>\n",
       "      <th>creatinine_phosphokinase</th>\n",
       "      <th>diabetes</th>\n",
       "      <th>ejection_fraction</th>\n",
       "      <th>high_blood_pressure</th>\n",
       "      <th>platelets</th>\n",
       "      <th>serum_creatinine</th>\n",
       "      <th>serum_sodium</th>\n",
       "      <th>sex</th>\n",
       "      <th>smoking</th>\n",
       "      <th>time</th>\n",
       "      <th>DEATH_EVENT</th>\n",
       "    </tr>\n",
       "  </thead>\n",
       "  <tbody>\n",
       "    <tr>\n",
       "      <th>0</th>\n",
       "      <td>63.0</td>\n",
       "      <td>1</td>\n",
       "      <td>122</td>\n",
       "      <td>1</td>\n",
       "      <td>60</td>\n",
       "      <td>0</td>\n",
       "      <td>267000.0</td>\n",
       "      <td>1.2</td>\n",
       "      <td>145</td>\n",
       "      <td>1</td>\n",
       "      <td>0</td>\n",
       "      <td>147</td>\n",
       "      <td>0</td>\n",
       "    </tr>\n",
       "    <tr>\n",
       "      <th>1</th>\n",
       "      <td>50.0</td>\n",
       "      <td>1</td>\n",
       "      <td>168</td>\n",
       "      <td>0</td>\n",
       "      <td>38</td>\n",
       "      <td>1</td>\n",
       "      <td>276000.0</td>\n",
       "      <td>1.1</td>\n",
       "      <td>137</td>\n",
       "      <td>1</td>\n",
       "      <td>0</td>\n",
       "      <td>11</td>\n",
       "      <td>1</td>\n",
       "    </tr>\n",
       "    <tr>\n",
       "      <th>2</th>\n",
       "      <td>45.0</td>\n",
       "      <td>0</td>\n",
       "      <td>582</td>\n",
       "      <td>0</td>\n",
       "      <td>20</td>\n",
       "      <td>1</td>\n",
       "      <td>126000.0</td>\n",
       "      <td>1.6</td>\n",
       "      <td>135</td>\n",
       "      <td>1</td>\n",
       "      <td>0</td>\n",
       "      <td>180</td>\n",
       "      <td>1</td>\n",
       "    </tr>\n",
       "    <tr>\n",
       "      <th>3</th>\n",
       "      <td>85.0</td>\n",
       "      <td>1</td>\n",
       "      <td>102</td>\n",
       "      <td>0</td>\n",
       "      <td>60</td>\n",
       "      <td>0</td>\n",
       "      <td>507000.0</td>\n",
       "      <td>3.2</td>\n",
       "      <td>138</td>\n",
       "      <td>0</td>\n",
       "      <td>0</td>\n",
       "      <td>94</td>\n",
       "      <td>0</td>\n",
       "    </tr>\n",
       "    <tr>\n",
       "      <th>4</th>\n",
       "      <td>65.0</td>\n",
       "      <td>0</td>\n",
       "      <td>56</td>\n",
       "      <td>0</td>\n",
       "      <td>25</td>\n",
       "      <td>0</td>\n",
       "      <td>237000.0</td>\n",
       "      <td>5.0</td>\n",
       "      <td>130</td>\n",
       "      <td>0</td>\n",
       "      <td>0</td>\n",
       "      <td>207</td>\n",
       "      <td>0</td>\n",
       "    </tr>\n",
       "  </tbody>\n",
       "</table>\n",
       "</div>"
      ],
      "text/plain": [
       "    age  anaemia  creatinine_phosphokinase  diabetes  ejection_fraction  \\\n",
       "0  63.0        1                       122         1                 60   \n",
       "1  50.0        1                       168         0                 38   \n",
       "2  45.0        0                       582         0                 20   \n",
       "3  85.0        1                       102         0                 60   \n",
       "4  65.0        0                        56         0                 25   \n",
       "\n",
       "   high_blood_pressure  platelets  serum_creatinine  serum_sodium  sex  \\\n",
       "0                    0   267000.0               1.2           145    1   \n",
       "1                    1   276000.0               1.1           137    1   \n",
       "2                    1   126000.0               1.6           135    1   \n",
       "3                    0   507000.0               3.2           138    0   \n",
       "4                    0   237000.0               5.0           130    0   \n",
       "\n",
       "   smoking  time  DEATH_EVENT  \n",
       "0        0   147            0  \n",
       "1        0    11            1  \n",
       "2        0   180            1  \n",
       "3        0    94            0  \n",
       "4        0   207            0  "
      ]
     },
     "execution_count": 124,
     "metadata": {},
     "output_type": "execute_result"
    }
   ],
   "source": [
    "df = pd.read_csv('DataSet.csv')\n",
    "df = df.drop(\"Unnamed: 0\", axis=1)\n",
    "df = df.sort_index()\n",
    "df.head()"
   ]
  },
  {
   "cell_type": "markdown",
   "metadata": {},
   "source": [
    "Look at the dataset attributes to evaluate whether or not a transformation needs to be made."
   ]
  },
  {
   "cell_type": "code",
   "execution_count": 114,
   "metadata": {},
   "outputs": [
    {
     "name": "stdout",
     "output_type": "stream",
     "text": [
      "<class 'pandas.core.frame.DataFrame'>\n",
      "Int64Index: 257 entries, 0 to 269\n",
      "Data columns (total 13 columns):\n",
      " #   Column                    Non-Null Count  Dtype  \n",
      "---  ------                    --------------  -----  \n",
      " 0   age                       257 non-null    float64\n",
      " 1   anaemia                   257 non-null    int64  \n",
      " 2   creatinine_phosphokinase  257 non-null    int64  \n",
      " 3   diabetes                  257 non-null    int64  \n",
      " 4   ejection_fraction         257 non-null    int64  \n",
      " 5   high_blood_pressure       257 non-null    int64  \n",
      " 6   platelets                 257 non-null    float64\n",
      " 7   serum_creatinine          257 non-null    float64\n",
      " 8   serum_sodium              257 non-null    int64  \n",
      " 9   sex                       257 non-null    int64  \n",
      " 10  smoking                   257 non-null    int64  \n",
      " 11  time                      257 non-null    int64  \n",
      " 12  DEATH_EVENT               257 non-null    int64  \n",
      "dtypes: float64(3), int64(10)\n",
      "memory usage: 28.1 KB\n"
     ]
    }
   ],
   "source": [
    "df.info()"
   ]
  },
  {
   "cell_type": "markdown",
   "metadata": {},
   "source": [
    "Further analyze the factors, looking specifically at how they are distributed."
   ]
  },
  {
   "cell_type": "code",
   "execution_count": 4,
   "metadata": {},
   "outputs": [
    {
     "data": {
      "text/html": [
       "<div>\n",
       "<style scoped>\n",
       "    .dataframe tbody tr th:only-of-type {\n",
       "        vertical-align: middle;\n",
       "    }\n",
       "\n",
       "    .dataframe tbody tr th {\n",
       "        vertical-align: top;\n",
       "    }\n",
       "\n",
       "    .dataframe thead th {\n",
       "        text-align: right;\n",
       "    }\n",
       "</style>\n",
       "<table border=\"1\" class=\"dataframe\">\n",
       "  <thead>\n",
       "    <tr style=\"text-align: right;\">\n",
       "      <th></th>\n",
       "      <th>age</th>\n",
       "      <th>anaemia</th>\n",
       "      <th>creatinine_phosphokinase</th>\n",
       "      <th>diabetes</th>\n",
       "      <th>ejection_fraction</th>\n",
       "      <th>high_blood_pressure</th>\n",
       "      <th>platelets</th>\n",
       "      <th>serum_creatinine</th>\n",
       "      <th>serum_sodium</th>\n",
       "      <th>sex</th>\n",
       "      <th>smoking</th>\n",
       "      <th>time</th>\n",
       "      <th>DEATH_EVENT</th>\n",
       "    </tr>\n",
       "  </thead>\n",
       "  <tbody>\n",
       "    <tr>\n",
       "      <th>count</th>\n",
       "      <td>270.000000</td>\n",
       "      <td>270.000000</td>\n",
       "      <td>270.000000</td>\n",
       "      <td>270.000000</td>\n",
       "      <td>270.000000</td>\n",
       "      <td>270.000000</td>\n",
       "      <td>270.000000</td>\n",
       "      <td>270.000000</td>\n",
       "      <td>270.000000</td>\n",
       "      <td>270.000000</td>\n",
       "      <td>270.000000</td>\n",
       "      <td>270.000000</td>\n",
       "      <td>270.000000</td>\n",
       "    </tr>\n",
       "    <tr>\n",
       "      <th>mean</th>\n",
       "      <td>60.639507</td>\n",
       "      <td>0.437037</td>\n",
       "      <td>597.674074</td>\n",
       "      <td>0.429630</td>\n",
       "      <td>38.240741</td>\n",
       "      <td>0.348148</td>\n",
       "      <td>264016.054407</td>\n",
       "      <td>1.406889</td>\n",
       "      <td>136.670370</td>\n",
       "      <td>0.662963</td>\n",
       "      <td>0.329630</td>\n",
       "      <td>129.388889</td>\n",
       "      <td>0.325926</td>\n",
       "    </tr>\n",
       "    <tr>\n",
       "      <th>std</th>\n",
       "      <td>11.754936</td>\n",
       "      <td>0.496941</td>\n",
       "      <td>1007.037547</td>\n",
       "      <td>0.495943</td>\n",
       "      <td>12.015379</td>\n",
       "      <td>0.477268</td>\n",
       "      <td>97577.471257</td>\n",
       "      <td>1.074922</td>\n",
       "      <td>4.488591</td>\n",
       "      <td>0.473575</td>\n",
       "      <td>0.470952</td>\n",
       "      <td>77.380635</td>\n",
       "      <td>0.469590</td>\n",
       "    </tr>\n",
       "    <tr>\n",
       "      <th>min</th>\n",
       "      <td>40.000000</td>\n",
       "      <td>0.000000</td>\n",
       "      <td>23.000000</td>\n",
       "      <td>0.000000</td>\n",
       "      <td>14.000000</td>\n",
       "      <td>0.000000</td>\n",
       "      <td>25100.000000</td>\n",
       "      <td>0.500000</td>\n",
       "      <td>113.000000</td>\n",
       "      <td>0.000000</td>\n",
       "      <td>0.000000</td>\n",
       "      <td>4.000000</td>\n",
       "      <td>0.000000</td>\n",
       "    </tr>\n",
       "    <tr>\n",
       "      <th>25%</th>\n",
       "      <td>51.000000</td>\n",
       "      <td>0.000000</td>\n",
       "      <td>115.750000</td>\n",
       "      <td>0.000000</td>\n",
       "      <td>30.000000</td>\n",
       "      <td>0.000000</td>\n",
       "      <td>213500.000000</td>\n",
       "      <td>0.900000</td>\n",
       "      <td>134.000000</td>\n",
       "      <td>0.000000</td>\n",
       "      <td>0.000000</td>\n",
       "      <td>72.250000</td>\n",
       "      <td>0.000000</td>\n",
       "    </tr>\n",
       "    <tr>\n",
       "      <th>50%</th>\n",
       "      <td>60.000000</td>\n",
       "      <td>0.000000</td>\n",
       "      <td>251.500000</td>\n",
       "      <td>0.000000</td>\n",
       "      <td>38.000000</td>\n",
       "      <td>0.000000</td>\n",
       "      <td>263179.015000</td>\n",
       "      <td>1.100000</td>\n",
       "      <td>137.000000</td>\n",
       "      <td>1.000000</td>\n",
       "      <td>0.000000</td>\n",
       "      <td>114.000000</td>\n",
       "      <td>0.000000</td>\n",
       "    </tr>\n",
       "    <tr>\n",
       "      <th>75%</th>\n",
       "      <td>69.750000</td>\n",
       "      <td>1.000000</td>\n",
       "      <td>582.000000</td>\n",
       "      <td>1.000000</td>\n",
       "      <td>45.000000</td>\n",
       "      <td>1.000000</td>\n",
       "      <td>303750.000000</td>\n",
       "      <td>1.400000</td>\n",
       "      <td>140.000000</td>\n",
       "      <td>1.000000</td>\n",
       "      <td>1.000000</td>\n",
       "      <td>200.750000</td>\n",
       "      <td>1.000000</td>\n",
       "    </tr>\n",
       "    <tr>\n",
       "      <th>max</th>\n",
       "      <td>95.000000</td>\n",
       "      <td>1.000000</td>\n",
       "      <td>7861.000000</td>\n",
       "      <td>1.000000</td>\n",
       "      <td>80.000000</td>\n",
       "      <td>1.000000</td>\n",
       "      <td>850000.000000</td>\n",
       "      <td>9.400000</td>\n",
       "      <td>148.000000</td>\n",
       "      <td>1.000000</td>\n",
       "      <td>1.000000</td>\n",
       "      <td>280.000000</td>\n",
       "      <td>1.000000</td>\n",
       "    </tr>\n",
       "  </tbody>\n",
       "</table>\n",
       "</div>"
      ],
      "text/plain": [
       "              age     anaemia  creatinine_phosphokinase    diabetes  \\\n",
       "count  270.000000  270.000000                270.000000  270.000000   \n",
       "mean    60.639507    0.437037                597.674074    0.429630   \n",
       "std     11.754936    0.496941               1007.037547    0.495943   \n",
       "min     40.000000    0.000000                 23.000000    0.000000   \n",
       "25%     51.000000    0.000000                115.750000    0.000000   \n",
       "50%     60.000000    0.000000                251.500000    0.000000   \n",
       "75%     69.750000    1.000000                582.000000    1.000000   \n",
       "max     95.000000    1.000000               7861.000000    1.000000   \n",
       "\n",
       "       ejection_fraction  high_blood_pressure      platelets  \\\n",
       "count         270.000000           270.000000     270.000000   \n",
       "mean           38.240741             0.348148  264016.054407   \n",
       "std            12.015379             0.477268   97577.471257   \n",
       "min            14.000000             0.000000   25100.000000   \n",
       "25%            30.000000             0.000000  213500.000000   \n",
       "50%            38.000000             0.000000  263179.015000   \n",
       "75%            45.000000             1.000000  303750.000000   \n",
       "max            80.000000             1.000000  850000.000000   \n",
       "\n",
       "       serum_creatinine  serum_sodium         sex     smoking        time  \\\n",
       "count        270.000000    270.000000  270.000000  270.000000  270.000000   \n",
       "mean           1.406889    136.670370    0.662963    0.329630  129.388889   \n",
       "std            1.074922      4.488591    0.473575    0.470952   77.380635   \n",
       "min            0.500000    113.000000    0.000000    0.000000    4.000000   \n",
       "25%            0.900000    134.000000    0.000000    0.000000   72.250000   \n",
       "50%            1.100000    137.000000    1.000000    0.000000  114.000000   \n",
       "75%            1.400000    140.000000    1.000000    1.000000  200.750000   \n",
       "max            9.400000    148.000000    1.000000    1.000000  280.000000   \n",
       "\n",
       "       DEATH_EVENT  \n",
       "count   270.000000  \n",
       "mean      0.325926  \n",
       "std       0.469590  \n",
       "min       0.000000  \n",
       "25%       0.000000  \n",
       "50%       0.000000  \n",
       "75%       1.000000  \n",
       "max       1.000000  "
      ]
     },
     "execution_count": 4,
     "metadata": {},
     "output_type": "execute_result"
    }
   ],
   "source": [
    "df.describe()"
   ]
  },
  {
   "cell_type": "markdown",
   "metadata": {},
   "source": [
    "Investigate correlation between predictors"
   ]
  },
  {
   "cell_type": "code",
   "execution_count": 6,
   "metadata": {},
   "outputs": [
    {
     "data": {
      "image/png": "[encoded data removed]",
      "text/plain": [
       "<Figure size 864x576 with 2 Axes>"
      ]
     },
     "metadata": {
      "needs_background": "light"
     },
     "output_type": "display_data"
    }
   ],
   "source": [
    "corr_matrix = df.corr()\n",
    "plt.figure(figsize=(12,8))\n",
    "sns.heatmap(corr_matrix,\n",
    "           annot=True,\n",
    "           linewidths=0.5,\n",
    "           fmt='.2f',\n",
    "           cmap='YlGnBu');"
   ]
  },
  {
   "cell_type": "markdown",
   "metadata": {},
   "source": [
    "Find outliers ( >3 standard deviations from mean )"
   ]
  },
  {
   "cell_type": "code",
   "execution_count": 125,
   "metadata": {},
   "outputs": [
    {
     "name": "stdout",
     "output_type": "stream",
     "text": [
      "Index:  6 Variable:  ['time - High'] Death:  0.0\n",
      "Index:  23 Variable:  ['creatinine_phosphokinase - Low'] Death:  1.0\n",
      "Index:  46 Variable:  ['serum_sodium - Low'] Death:  0.0\n",
      "Index:  75 Variable:  ['platelets - High'] Death:  0.0\n",
      "Index:  133 Variable:  ['time - Low'] Death:  1.0\n",
      "Index:  142 Variable:  ['serum_sodium - High'] Death:  0.0\n",
      "Index:  162 Variable:  ['serum_creatinine - High'] Death:  1.0\n",
      "Index:  205 Variable:  ['age - High'] Death:  1.0\n",
      "Index:  229 Variable:  ['ejection_fraction - Low'] Death:  1.0\n",
      "Index:  231 Variable:  ['serum_creatinine - Low'] Death:  0.0\n",
      "Index:  248 Variable:  ['creatinine_phosphokinase - High'] Death:  1.0\n",
      "Index:  258 Variable:  ['ejection_fraction - High'] Death:  0.0\n",
      "Index:  265 Variable:  ['platelets - Low'] Death:  0.0\n"
     ]
    }
   ],
   "source": [
    "o = {}\n",
    "\n",
    "for col in df:\n",
    "    q = df[col].quantile(.9987)\n",
    "    i = 0\n",
    "    for item in df[col]:\n",
    "        if item > q:\n",
    "            if i in o:\n",
    "                o[i].append(col + ' - High')\n",
    "            else:\n",
    "                o[i] = [col + ' - High']\n",
    "        i += 1   \n",
    "         \n",
    "for col in df:\n",
    "    q = df[col].quantile(.0013)\n",
    "    i = 0\n",
    "    for item in df[col]:\n",
    "        if item < q:\n",
    "            if i in o:\n",
    "                o[i].append(col + ' - Low')\n",
    "            else:\n",
    "                o[i] = [col + ' - Low']\n",
    "        i += 1\n",
    "        \n",
    "for outlier in sorted(o):\n",
    "    print(\"Index: \", outlier, \"Variable: \", o[outlier], \"Death: \", df.iloc[outlier]['DEATH_EVENT'])"
   ]
  },
  {
   "cell_type": "code",
   "execution_count": 126,
   "metadata": {},
   "outputs": [
    {
     "name": "stdout",
     "output_type": "stream",
     "text": [
      "0.46153846153846156\n"
     ]
    }
   ],
   "source": [
    "print(np.mean(df.iloc[list(o.keys())]['DEATH_EVENT']))"
   ]
  },
  {
   "cell_type": "markdown",
   "metadata": {},
   "source": [
    "Check the distributions of the outlier predictors. Based of of our outliers I expect that some of these distributions might not be normal."
   ]
  },
  {
   "cell_type": "code",
   "execution_count": 9,
   "metadata": {},
   "outputs": [
    {
     "data": {
      "text/plain": [
       "<matplotlib.legend.Legend at 0x23706bac250>"
      ]
     },
     "execution_count": 9,
     "metadata": {},
     "output_type": "execute_result"
    },
    {
     "data": {
      "image/png": "[encoded data removed]",
      "text/plain": [
       "<Figure size 432x288 with 1 Axes>"
      ]
     },
     "metadata": {
      "needs_background": "light"
     },
     "output_type": "display_data"
    }
   ],
   "source": [
    "_ = plt.hist(df.loc[df[\"DEATH_EVENT\"] == 0][\"time\"], color=\"gold\", label=\"Life\")\n",
    "_ = plt.hist(df.loc[df[\"DEATH_EVENT\"] == 1][\"time\"], color='black', label=\"Death\")\n",
    "_ = plt.title('Time Distribution')\n",
    "_ = plt.legend()"
   ]
  },
  {
   "cell_type": "code",
   "execution_count": 10,
   "metadata": {},
   "outputs": [
    {
     "data": {
      "text/plain": [
       "<matplotlib.legend.Legend at 0x23706c36ac0>"
      ]
     },
     "execution_count": 10,
     "metadata": {},
     "output_type": "execute_result"
    },
    {
     "data": {
      "image/png": "[encoded data removed]",
      "text/plain": [
       "<Figure size 432x288 with 1 Axes>"
      ]
     },
     "metadata": {
      "needs_background": "light"
     },
     "output_type": "display_data"
    }
   ],
   "source": [
    "_ = plt.hist(df.loc[df[\"DEATH_EVENT\"] == 0][\"ejection_fraction\"], color=\"gold\", label=\"Life\")\n",
    "_ = plt.hist(df.loc[df[\"DEATH_EVENT\"] == 1][\"ejection_fraction\"], color='black', label=\"Death\")\n",
    "_ = plt.title('Ejection Fraction Distribution')\n",
    "_ = plt.legend()"
   ]
  },
  {
   "cell_type": "code",
   "execution_count": 11,
   "metadata": {},
   "outputs": [
    {
     "data": {
      "text/plain": [
       "<matplotlib.legend.Legend at 0x23706cbf8e0>"
      ]
     },
     "execution_count": 11,
     "metadata": {},
     "output_type": "execute_result"
    },
    {
     "data": {
      "image/png": "[encoded data removed]",
      "text/plain": [
       "<Figure size 432x288 with 1 Axes>"
      ]
     },
     "metadata": {
      "needs_background": "light"
     },
     "output_type": "display_data"
    }
   ],
   "source": [
    "_ = plt.hist(df.loc[df[\"DEATH_EVENT\"] == 0][\"creatinine_phosphokinase\"], color=\"gold\", label=\"Life\")\n",
    "_ = plt.hist(df.loc[df[\"DEATH_EVENT\"] == 1][\"creatinine_phosphokinase\"], color='black', label=\"Death\")\n",
    "_ = plt.title('Creatine Phosphokinase Distribution')\n",
    "_ = plt.legend()"
   ]
  },
  {
   "cell_type": "code",
   "execution_count": 12,
   "metadata": {},
   "outputs": [
    {
     "data": {
      "text/plain": [
       "<matplotlib.legend.Legend at 0x23706bf0850>"
      ]
     },
     "execution_count": 12,
     "metadata": {},
     "output_type": "execute_result"
    },
    {
     "data": {
      "image/png": "[encoded data removed]",
      "text/plain": [
       "<Figure size 432x288 with 1 Axes>"
      ]
     },
     "metadata": {
      "needs_background": "light"
     },
     "output_type": "display_data"
    }
   ],
   "source": [
    "_ = plt.hist(df.loc[df[\"DEATH_EVENT\"] == 0][\"serum_sodium\"], color=\"gold\", label=\"Life\")\n",
    "_ = plt.hist(df.loc[df[\"DEATH_EVENT\"] == 1][\"serum_sodium\"], color='black', label=\"Death\")\n",
    "_ = plt.title('Serum Sodium Distribution')\n",
    "_ = plt.legend()"
   ]
  },
  {
   "cell_type": "code",
   "execution_count": 13,
   "metadata": {},
   "outputs": [
    {
     "data": {
      "text/plain": [
       "<matplotlib.legend.Legend at 0x23706de18e0>"
      ]
     },
     "execution_count": 13,
     "metadata": {},
     "output_type": "execute_result"
    },
    {
     "data": {
      "image/png": "[encoded data removed]",
      "text/plain": [
       "<Figure size 432x288 with 1 Axes>"
      ]
     },
     "metadata": {
      "needs_background": "light"
     },
     "output_type": "display_data"
    }
   ],
   "source": [
    "_ = plt.hist(df.loc[df[\"DEATH_EVENT\"] == 0][\"age\"], color=\"gold\", label=\"Life\")\n",
    "_ = plt.hist(df.loc[df[\"DEATH_EVENT\"] == 1][\"age\"], color='black', label=\"Death\")\n",
    "_ = plt.title('Age Distribution')\n",
    "_ = plt.legend()"
   ]
  },
  {
   "cell_type": "code",
   "execution_count": 14,
   "metadata": {},
   "outputs": [
    {
     "data": {
      "text/plain": [
       "<matplotlib.legend.Legend at 0x23706d31fd0>"
      ]
     },
     "execution_count": 14,
     "metadata": {},
     "output_type": "execute_result"
    },
    {
     "data": {
      "image/png": "[encoded data removed]",
      "text/plain": [
       "<Figure size 432x288 with 1 Axes>"
      ]
     },
     "metadata": {
      "needs_background": "light"
     },
     "output_type": "display_data"
    }
   ],
   "source": [
    "_ = plt.hist(df.loc[df[\"DEATH_EVENT\"] == 0][\"platelets\"], color=\"gold\", label=\"Life\")\n",
    "_ = plt.hist(df.loc[df[\"DEATH_EVENT\"] == 1][\"platelets\"], color='black', label=\"Death\")\n",
    "_ = plt.title('Platelets Distribution')\n",
    "_ = plt.legend()"
   ]
  },
  {
   "cell_type": "code",
   "execution_count": 15,
   "metadata": {},
   "outputs": [
    {
     "data": {
      "text/plain": [
       "<matplotlib.legend.Legend at 0x237065cf520>"
      ]
     },
     "execution_count": 15,
     "metadata": {},
     "output_type": "execute_result"
    },
    {
     "data": {
      "image/png": "[encoded data removed]",
      "text/plain": [
       "<Figure size 432x288 with 1 Axes>"
      ]
     },
     "metadata": {
      "needs_background": "light"
     },
     "output_type": "display_data"
    }
   ],
   "source": [
    "_ = plt.hist(df.loc[df[\"DEATH_EVENT\"] == 0][\"serum_creatinine\"], color=\"gold\", label=\"Life\")\n",
    "_ = plt.hist(df.loc[df[\"DEATH_EVENT\"] == 1][\"serum_creatinine\"], color='black', label=\"Death\")\n",
    "_ = plt.title('Serum Creatinine Distribution')\n",
    "_ = plt.legend()"
   ]
  },
  {
   "cell_type": "markdown",
   "metadata": {},
   "source": [
    "Some of this data is clearly non normal, so using the boxcox transformation we adjust them to increase there normality. They still result in the same outliers."
   ]
  },
  {
   "cell_type": "code",
   "execution_count": 16,
   "metadata": {
    "scrolled": true
   },
   "outputs": [
    {
     "name": "stdout",
     "output_type": "stream",
     "text": [
      "Index:  6 Variable:  ['time - High'] Death:  0.0\n",
      "Index:  23 Variable:  ['creatinine_phosphokinase - Low'] Death:  1.0\n",
      "Index:  46 Variable:  ['serum_sodium - Low'] Death:  0.0\n",
      "Index:  75 Variable:  ['platelets - High'] Death:  0.0\n",
      "Index:  133 Variable:  ['time - Low'] Death:  1.0\n",
      "Index:  142 Variable:  ['serum_sodium - High'] Death:  0.0\n",
      "Index:  162 Variable:  ['serum_creatinine - High'] Death:  1.0\n",
      "Index:  205 Variable:  ['age - High'] Death:  1.0\n",
      "Index:  229 Variable:  ['ejection_fraction - Low'] Death:  1.0\n",
      "Index:  231 Variable:  ['serum_creatinine - Low'] Death:  0.0\n",
      "Index:  248 Variable:  ['creatinine_phosphokinase - High'] Death:  1.0\n",
      "Index:  258 Variable:  ['ejection_fraction - High'] Death:  0.0\n",
      "Index:  265 Variable:  ['platelets - Low'] Death:  0.0\n"
     ]
    }
   ],
   "source": [
    "from scipy import stats\n",
    "o = {}\n",
    "\n",
    "for col in df:\n",
    "    \n",
    "    a = None\n",
    "    try:\n",
    "        a = stats.boxcox(df[col])[0]\n",
    "    except: \n",
    "        continue\n",
    "        \n",
    "    q = np.quantile(a, .9987)    \n",
    "        \n",
    "    i = 0\n",
    "    for item in a:\n",
    "        if item > q:\n",
    "            if i in o:\n",
    "                o[i].append(col + ' - High')\n",
    "            else:\n",
    "                o[i] = [col + ' - High']\n",
    "        i += 1   \n",
    "         \n",
    "for col in df:\n",
    "    \n",
    "    a = None\n",
    "    try:\n",
    "        a = stats.boxcox(df[col])[0]\n",
    "    except: \n",
    "        continue\n",
    "        \n",
    "    q = np.quantile(a, .0013)    \n",
    "        \n",
    "    i = 0\n",
    "    for item in a:\n",
    "        if item < q:\n",
    "            if i in o:\n",
    "                o[i].append(col + ' - Low')\n",
    "            else:\n",
    "                o[i] = [col + ' - Low']\n",
    "        i += 1\n",
    "        \n",
    "for outlier in sorted(o):\n",
    "    print(\"Index: \", outlier, \"Variable: \", o[outlier], \"Death: \", df.iloc[outlier]['DEATH_EVENT'])"
   ]
  },
  {
   "cell_type": "markdown",
   "metadata": {},
   "source": [
    "Next we remove these outliers."
   ]
  },
  {
   "cell_type": "code",
   "execution_count": 17,
   "metadata": {},
   "outputs": [
    {
     "name": "stdout",
     "output_type": "stream",
     "text": [
      "[205, 248, 258, 75, 162, 142, 6, 23, 229, 265, 231, 46, 133]\n"
     ]
    }
   ],
   "source": [
    "toDrop = [x for x in o.keys()]\n",
    "print(list(toDrop))\n",
    "df = df.drop(toDrop, axis=0)"
   ]
  },
  {
   "cell_type": "markdown",
   "metadata": {},
   "source": [
    "Modeling:\n",
    "\n",
    "Because of how easy it is to use various machine learning models we will use all of the logical models on a set of testing and training data then tune the best model.\n",
    "\n",
    "Logistic Regression\n",
    "Naive Bayes\n",
    "Random Forest Classifier\n",
    "K-Nearest Neighbour\n",
    "Decision Tree\n",
    "Support Vector Machine"
   ]
  },
  {
   "cell_type": "markdown",
   "metadata": {},
   "source": [
    "First we get a training and testing set"
   ]
  },
  {
   "cell_type": "code",
   "execution_count": 137,
   "metadata": {},
   "outputs": [],
   "source": [
    "y = df[\"DEATH_EVENT\"]\n",
    "X = df.drop(\"DEATH_EVENT\",axis=1)\n",
    "X_train, X_test, y_train, y_test = train_test_split(X, y, test_size=0.15, random_state=6)\n",
    "scaler = StandardScaler()\n",
    "X_train = scaler.fit_transform(X_train)\n",
    "X_test = scaler.transform(X_test)"
   ]
  },
  {
   "cell_type": "markdown",
   "metadata": {},
   "source": [
    "Check that there is a even distribution of death events."
   ]
  },
  {
   "cell_type": "code",
   "execution_count": 138,
   "metadata": {},
   "outputs": [
    {
     "name": "stdout",
     "output_type": "stream",
     "text": [
      "Test Average:  0.3170731707317073 Pop Average:  0.32592592592592595\n"
     ]
    }
   ],
   "source": [
    "print(\"Test Average: \", np.mean(y_test), \"Pop Average: \", np.mean(df['DEATH_EVENT']))"
   ]
  },
  {
   "cell_type": "markdown",
   "metadata": {},
   "source": [
    "Split into training and validation data "
   ]
  },
  {
   "cell_type": "code",
   "execution_count": 99,
   "metadata": {},
   "outputs": [],
   "source": [
    "X_train_t, X_test_t, y_train_t, y_test_t = train_test_split(X_train, y_train, test_size=0.21, random_state=6)"
   ]
  },
  {
   "cell_type": "code",
   "execution_count": 139,
   "metadata": {},
   "outputs": [
    {
     "name": "stdout",
     "output_type": "stream",
     "text": [
      "Test Average:  0.30434782608695654 Pop Average:  0.32592592592592595\n"
     ]
    }
   ],
   "source": [
    "print(\"Test Average: \", np.mean(y_test_t), \"Pop Average: \", np.mean(df['DEATH_EVENT']))"
   ]
  },
  {
   "cell_type": "code",
   "execution_count": 140,
   "metadata": {},
   "outputs": [
    {
     "name": "stdout",
     "output_type": "stream",
     "text": [
      "Confusion matrix\n",
      "[[31  1]\n",
      " [ 7  7]]\n",
      "\n",
      "\n",
      "Accuracy of Logistic Regression: 82.6086956521739 \n",
      "\n",
      "              precision    recall  f1-score   support\n",
      "\n",
      "           0       0.82      0.97      0.89        32\n",
      "           1       0.88      0.50      0.64        14\n",
      "\n",
      "    accuracy                           0.83        46\n",
      "   macro avg       0.85      0.73      0.76        46\n",
      "weighted avg       0.83      0.83      0.81        46\n",
      "\n"
     ]
    }
   ],
   "source": [
    "m1 = 'Logistic Regression'\n",
    "lr = LogisticRegression()\n",
    "model = lr.fit(X_train_t, y_train_t)\n",
    "lr_predict = lr.predict(X_test_t)\n",
    "lr_conf_matrix = confusion_matrix(y_test_t, lr_predict)\n",
    "lr_acc_score = accuracy_score(y_test_t, lr_predict)\n",
    "print(\"Confusion matrix\")\n",
    "print(lr_conf_matrix)\n",
    "print(\"\\n\")\n",
    "print(\"Accuracy of Logistic Regression:\",lr_acc_score*100,'\\n')\n",
    "print(classification_report(y_test_t,lr_predict))"
   ]
  },
  {
   "cell_type": "code",
   "execution_count": 141,
   "metadata": {},
   "outputs": [
    {
     "name": "stdout",
     "output_type": "stream",
     "text": [
      "Confusion matrix\n",
      "[[31  1]\n",
      " [ 6  8]]\n",
      "\n",
      "\n",
      "Accuracy of Naive Bayes model: 84.78260869565217 \n",
      "\n",
      "              precision    recall  f1-score   support\n",
      "\n",
      "           0       0.84      0.97      0.90        32\n",
      "           1       0.89      0.57      0.70        14\n",
      "\n",
      "    accuracy                           0.85        46\n",
      "   macro avg       0.86      0.77      0.80        46\n",
      "weighted avg       0.85      0.85      0.84        46\n",
      "\n"
     ]
    }
   ],
   "source": [
    "m2 = 'Naive Bayes'\n",
    "nb = GaussianNB()\n",
    "nb.fit(X_train_t, y_train_t)\n",
    "nbpred = nb.predict(X_test_t)\n",
    "nb_conf_matrix = confusion_matrix(y_test_t, nbpred)\n",
    "nb_acc_score = accuracy_score(y_test_t, nbpred)\n",
    "print(\"Confusion matrix\")\n",
    "print(nb_conf_matrix)\n",
    "print(\"\\n\")\n",
    "print(\"Accuracy of Naive Bayes model:\",nb_acc_score*100,'\\n')\n",
    "print(classification_report(y_test_t, nbpred))"
   ]
  },
  {
   "cell_type": "code",
   "execution_count": 142,
   "metadata": {},
   "outputs": [
    {
     "name": "stdout",
     "output_type": "stream",
     "text": [
      "Confusion matrix\n",
      "[[32  0]\n",
      " [ 4 10]]\n",
      "\n",
      "\n",
      "Accuracy of Random Forest: 91.30434782608695 \n",
      "\n",
      "              precision    recall  f1-score   support\n",
      "\n",
      "           0       0.89      1.00      0.94        32\n",
      "           1       1.00      0.71      0.83        14\n",
      "\n",
      "    accuracy                           0.91        46\n",
      "   macro avg       0.94      0.86      0.89        46\n",
      "weighted avg       0.92      0.91      0.91        46\n",
      "\n",
      "Feature: age Importance: 0.1102212999624753\n",
      "Feature: anaemia Importance: 0.015573594928867404\n",
      "Feature: creatinine_phosphokinase Importance: 0.07600533271958783\n",
      "Feature: diabetes Importance: 0.011433028057764265\n",
      "Feature: ejection_fraction Importance: 0.1511716899462835\n",
      "Feature: high_blood_pressure Importance: 0.014865753620256777\n",
      "Feature: platelets Importance: 0.09526858621938293\n",
      "Feature: serum_creatinine Importance: 0.1279541995569013\n",
      "Feature: serum_sodium Importance: 0.06941072543267876\n",
      "Feature: sex Importance: 0.010110979544537777\n",
      "Feature: smoking Importance: 0.010473765249890115\n",
      "Feature: time Importance: 0.3075110447613741\n"
     ]
    }
   ],
   "source": [
    "m3 = 'Random Forest Classfier'\n",
    "rf = RandomForestClassifier()\n",
    "rf.fit(X_train_t, y_train_t)\n",
    "rf_predicted = rf.predict(X_test_t)\n",
    "rf_conf_matrix = confusion_matrix(y_test_t, rf_predicted)\n",
    "rf_acc_score = accuracy_score(y_test_t, rf_predicted)\n",
    "print(\"Confusion matrix\")\n",
    "print(rf_conf_matrix)\n",
    "print(\"\\n\")\n",
    "print(\"Accuracy of Random Forest:\",rf_acc_score*100,'\\n')\n",
    "print(classification_report(y_test_t, rf_predicted))\n",
    "\n",
    "for i in range(len(df.columns.values) - 1):\n",
    "    print(\"Feature:\", df.columns.values[i], \"Importance:\", rf.feature_importances_[i])"
   ]
  },
  {
   "cell_type": "code",
   "execution_count": 143,
   "metadata": {},
   "outputs": [
    {
     "name": "stdout",
     "output_type": "stream",
     "text": [
      "Confusion matrix\n",
      "[[32  0]\n",
      " [11  3]]\n",
      "\n",
      "\n",
      "Accuracy of K-NeighborsClassifier: 76.08695652173914 \n",
      "\n",
      "              precision    recall  f1-score   support\n",
      "\n",
      "           0       0.74      1.00      0.85        32\n",
      "           1       1.00      0.21      0.35        14\n",
      "\n",
      "    accuracy                           0.76        46\n",
      "   macro avg       0.87      0.61      0.60        46\n",
      "weighted avg       0.82      0.76      0.70        46\n",
      "\n"
     ]
    }
   ],
   "source": [
    "m4 = 'K-NeighborsClassifier'\n",
    "knn = KNeighborsClassifier(n_neighbors=10)\n",
    "knn.fit(X_train_t, y_train_t)\n",
    "knn_predicted = knn.predict(X_test_t)\n",
    "knn_conf_matrix = confusion_matrix(y_test_t, knn_predicted)\n",
    "knn_acc_score = accuracy_score(y_test_t, knn_predicted)\n",
    "print(\"Confusion matrix\")\n",
    "print(knn_conf_matrix)\n",
    "print(\"\\n\")\n",
    "print(\"Accuracy of K-NeighborsClassifier:\",knn_acc_score*100,'\\n')\n",
    "print(classification_report(y_test_t, knn_predicted))"
   ]
  },
  {
   "cell_type": "code",
   "execution_count": 144,
   "metadata": {},
   "outputs": [
    {
     "name": "stdout",
     "output_type": "stream",
     "text": [
      "Confusion matrix\n",
      "[[30  2]\n",
      " [ 4 10]]\n",
      "\n",
      "\n",
      "Accuracy of DecisionTreeClassifier: 86.95652173913044 \n",
      "\n",
      "              precision    recall  f1-score   support\n",
      "\n",
      "           0       0.88      0.94      0.91        32\n",
      "           1       0.83      0.71      0.77        14\n",
      "\n",
      "    accuracy                           0.87        46\n",
      "   macro avg       0.86      0.83      0.84        46\n",
      "weighted avg       0.87      0.87      0.87        46\n",
      "\n"
     ]
    }
   ],
   "source": [
    "m5 = 'DecisionTreeClassifier'\n",
    "dt = DecisionTreeClassifier(criterion = 'entropy',random_state=0,max_depth = 6)\n",
    "dt.fit(X_train_t, y_train_t)\n",
    "dt_predicted = dt.predict(X_test_t)\n",
    "dt_conf_matrix = confusion_matrix(y_test_t, dt_predicted)\n",
    "dt_acc_score = accuracy_score(y_test_t, dt_predicted)\n",
    "print(\"Confusion matrix\")\n",
    "print(dt_conf_matrix)\n",
    "print(\"\\n\")\n",
    "print(\"Accuracy of DecisionTreeClassifier:\",dt_acc_score*100,'\\n')\n",
    "print(classification_report(y_test_t, dt_predicted))"
   ]
  },
  {
   "cell_type": "code",
   "execution_count": 145,
   "metadata": {},
   "outputs": [
    {
     "name": "stdout",
     "output_type": "stream",
     "text": [
      "Confusion matrix\n",
      "[[28  4]\n",
      " [ 6  8]]\n",
      "\n",
      "\n",
      "Accuracy of Support Vector Classifier: 78.26086956521739 \n",
      "\n",
      "              precision    recall  f1-score   support\n",
      "\n",
      "           0       0.82      0.88      0.85        32\n",
      "           1       0.67      0.57      0.62        14\n",
      "\n",
      "    accuracy                           0.78        46\n",
      "   macro avg       0.75      0.72      0.73        46\n",
      "weighted avg       0.78      0.78      0.78        46\n",
      "\n"
     ]
    }
   ],
   "source": [
    "m6 = 'Support Vector Classifier'\n",
    "svc =  SVC(kernel='rbf', C=2)\n",
    "svc.fit(X_train_t, y_train_t)\n",
    "svc_predicted = svc.predict(X_test_t)\n",
    "svc_conf_matrix = confusion_matrix(y_test_t, svc_predicted)\n",
    "svc_acc_score = accuracy_score(y_test_t, svc_predicted)\n",
    "print(\"Confusion matrix\")\n",
    "print(svc_conf_matrix)\n",
    "print(\"\\n\")\n",
    "print(\"Accuracy of Support Vector Classifier:\",svc_acc_score*100,'\\n')\n",
    "print(classification_report(y_test_t, svc_predicted))"
   ]
  },
  {
   "cell_type": "markdown",
   "metadata": {},
   "source": [
    "From the above accuracies we can reasonably conclude that Logistic Regression and Random Forest Classification are our best predictors."
   ]
  },
  {
   "cell_type": "markdown",
   "metadata": {},
   "source": [
    "First we will do Logistic Regression. There are not many parameters for this classifier so we will run GridSearchCV to get the best parameters right away."
   ]
  },
  {
   "cell_type": "code",
   "execution_count": 149,
   "metadata": {},
   "outputs": [],
   "source": [
    "log_grid = {\"C\": np.logspace(-4, 4, 50),\n",
    "            \"penalty\": [\"l1\", \"l2\", \"elasticnet\", \"none\"],\n",
    "            \"solver\": [\"liblinear\"]}"
   ]
  },
  {
   "cell_type": "code",
   "execution_count": 150,
   "metadata": {},
   "outputs": [
    {
     "name": "stdout",
     "output_type": "stream",
     "text": [
      "Best parameters:  {'C': 0.08685113737513521, 'penalty': 'l1', 'solver': 'liblinear'}\n",
      "\n",
      "\n",
      "Confusion matrix\n",
      "[[26  2]\n",
      " [ 2 11]]\n",
      "\n",
      "\n",
      "Accuracy of Logistic Regression: 90.2439024390244 \n",
      "\n",
      "              precision    recall  f1-score   support\n",
      "\n",
      "           0       0.93      0.93      0.93        28\n",
      "           1       0.85      0.85      0.85        13\n",
      "\n",
      "    accuracy                           0.90        41\n",
      "   macro avg       0.89      0.89      0.89        41\n",
      "weighted avg       0.90      0.90      0.90        41\n",
      "\n"
     ]
    }
   ],
   "source": [
    "gridLog = GridSearchCV(LogisticRegression(),\n",
    "                          param_grid=log_grid,\n",
    "                          cv=5,\n",
    "                          n_jobs=-1)\n",
    "\n",
    "model = gridLog.fit(X_train, y_train)\n",
    "gridLog_predict = gridLog.predict(X_test)\n",
    "gridLog_conf_matrix = confusion_matrix(y_test, gridLog_predict)\n",
    "gridLog_acc_score = accuracy_score(y_test, gridLog_predict)\n",
    "print(\"Best parameters: \", gridLog.best_params_)\n",
    "print(\"\\n\")\n",
    "print(\"Confusion matrix\")\n",
    "print(gridLog_conf_matrix)\n",
    "print(\"\\n\")\n",
    "print(\"Accuracy of Logistic Regression:\", gridLog_acc_score*100,'\\n')\n",
    "print(classification_report(y_test, gridLog_predict))\n"
   ]
  },
  {
   "cell_type": "markdown",
   "metadata": {},
   "source": [
    "Next we will tune the Random Forest Classifier.\n",
    "\n",
    "There are many parameters that are going to be searched so we will run a randomized model first and look to see if any values are correlated with the death event and then tune the parameter ranges accordingly."
   ]
  },
  {
   "cell_type": "code",
   "execution_count": 146,
   "metadata": {},
   "outputs": [],
   "source": [
    "rf_grid_rand = {\"n_estimators\": np.arange(10, 1000, 50),\n",
    "                \"max_depth\": [None, 3, 5, 10],\n",
    "                \"min_samples_split\": np.arange(2, 20, 2),\n",
    "                \"min_samples_leaf\": np.arange(1, 20, 2),\n",
    "                \"random_state\": np.arange(1, 10, 1),\n",
    "                \"max_depth\": np.arange(1, 10, 1)\n",
    "                }\n",
    "\n",
    "randTree = RandomizedSearchCV(RandomForestClassifier(),\n",
    "                                param_distributions=rf_grid_rand,\n",
    "                                cv=5,\n",
    "                                n_jobs=-1,\n",
    "                                n_iter=100,\n",
    "                                random_state=6\n",
    "                             )\n",
    "\n",
    "randTree.fit(X_train,y_train)\n",
    "\n",
    "results = pd.DataFrame(randTree.cv_results_).drop([\"mean_fit_time\", \"std_fit_time\",\n",
    "                                                  \"mean_score_time\", \"std_score_time\",\n",
    "                                                  \"split0_test_score\", \"split2_test_score\",\n",
    "                                                  \"split3_test_score\", \"split4_test_score\",\n",
    "                                                  \"split1_test_score\"], axis=1)\n",
    "\n",
    "pd.DataFrame(results).to_csv('randTreeCV.csv')"
   ]
  },
  {
   "cell_type": "code",
   "execution_count": 147,
   "metadata": {},
   "outputs": [
    {
     "data": {
      "image/png": "[encoded data removed]",
      "text/plain": [
       "<Figure size 864x576 with 2 Axes>"
      ]
     },
     "metadata": {
      "needs_background": "light"
     },
     "output_type": "display_data"
    }
   ],
   "source": [
    "results_corr = results.drop([\"params\", \"std_test_score\", \"params\", \"rank_test_score\"], axis=1).apply(pd.to_numeric)\n",
    "\n",
    "corr_matrix = results_corr.corr()\n",
    "plt.figure(figsize=(12,8))\n",
    "sns.heatmap(corr_matrix,\n",
    "           annot=True,\n",
    "           linewidths=0.5,\n",
    "           fmt='.2f',\n",
    "           cmap='YlGnBu');"
   ]
  },
  {
   "cell_type": "markdown",
   "metadata": {},
   "source": [
    "From the correlation grid we can see that max depth is correlated with test score so we will focus on being precise with this parameter well with the others we will reduce the step size before running a more rigorous GridSearchCV."
   ]
  },
  {
   "cell_type": "code",
   "execution_count": 152,
   "metadata": {},
   "outputs": [
    {
     "name": "stdout",
     "output_type": "stream",
     "text": [
      "Fitting 5 folds for each of 4500 candidates, totalling 22500 fits\n"
     ]
    },
    {
     "name": "stderr",
     "output_type": "stream",
     "text": [
      "[Parallel(n_jobs=-1)]: Using backend LokyBackend with 16 concurrent workers.\n",
      "[Parallel(n_jobs=-1)]: Done  18 tasks      | elapsed:    2.5s\n",
      "[Parallel(n_jobs=-1)]: Done 168 tasks      | elapsed:    8.0s\n",
      "[Parallel(n_jobs=-1)]: Done 418 tasks      | elapsed:   16.9s\n",
      "[Parallel(n_jobs=-1)]: Done 768 tasks      | elapsed:   30.5s\n",
      "[Parallel(n_jobs=-1)]: Done 1218 tasks      | elapsed:   46.7s\n",
      "[Parallel(n_jobs=-1)]: Done 1768 tasks      | elapsed:  1.1min\n",
      "[Parallel(n_jobs=-1)]: Done 2418 tasks      | elapsed:  1.5min\n",
      "[Parallel(n_jobs=-1)]: Done 3168 tasks      | elapsed:  1.9min\n",
      "[Parallel(n_jobs=-1)]: Done 4018 tasks      | elapsed:  2.5min\n",
      "[Parallel(n_jobs=-1)]: Done 4968 tasks      | elapsed:  3.1min\n",
      "[Parallel(n_jobs=-1)]: Done 6018 tasks      | elapsed:  3.7min\n",
      "[Parallel(n_jobs=-1)]: Done 7168 tasks      | elapsed:  4.4min\n",
      "[Parallel(n_jobs=-1)]: Done 8418 tasks      | elapsed:  5.2min\n",
      "[Parallel(n_jobs=-1)]: Done 9768 tasks      | elapsed:  6.0min\n",
      "[Parallel(n_jobs=-1)]: Done 11218 tasks      | elapsed:  6.9min\n",
      "[Parallel(n_jobs=-1)]: Done 12768 tasks      | elapsed:  7.8min\n",
      "[Parallel(n_jobs=-1)]: Done 14418 tasks      | elapsed:  8.9min\n",
      "[Parallel(n_jobs=-1)]: Done 16168 tasks      | elapsed:  9.9min\n",
      "[Parallel(n_jobs=-1)]: Done 18018 tasks      | elapsed: 11.1min\n",
      "[Parallel(n_jobs=-1)]: Done 19968 tasks      | elapsed: 12.3min\n",
      "[Parallel(n_jobs=-1)]: Done 22018 tasks      | elapsed: 13.6min\n",
      "[Parallel(n_jobs=-1)]: Done 22500 out of 22500 | elapsed: 13.9min finished\n"
     ]
    },
    {
     "name": "stdout",
     "output_type": "stream",
     "text": [
      "Best parameters:  {'max_depth': 5, 'min_samples_leaf': 3, 'min_samples_split': 14, 'n_estimators': 360, 'random_state': 1}\n",
      "\n",
      "\n",
      "Confusion matrix\n",
      "[[28  0]\n",
      " [ 4  9]]\n",
      "\n",
      "\n",
      "Accuracy of Random Forest: 90.2439024390244 \n",
      "\n",
      "              precision    recall  f1-score   support\n",
      "\n",
      "           0       0.88      1.00      0.93        28\n",
      "           1       1.00      0.69      0.82        13\n",
      "\n",
      "    accuracy                           0.90        41\n",
      "   macro avg       0.94      0.85      0.88        41\n",
      "weighted avg       0.91      0.90      0.90        41\n",
      "\n",
      "Feature: age Importance: 0.07503503606101657\n",
      "Feature: anaemia Importance: 0.00486105742871176\n",
      "Feature: creatinine_phosphokinase Importance: 0.050128522465979784\n",
      "Feature: diabetes Importance: 0.0046600784520917865\n",
      "Feature: ejection_fraction Importance: 0.14010001863959098\n",
      "Feature: high_blood_pressure Importance: 0.005694393236171485\n",
      "Feature: platelets Importance: 0.05509628257711482\n",
      "Feature: serum_creatinine Importance: 0.1452133709756983\n",
      "Feature: serum_sodium Importance: 0.05444023004298499\n",
      "Feature: sex Importance: 0.005734533133110792\n",
      "Feature: smoking Importance: 0.0042934289622632875\n",
      "Feature: time Importance: 0.45474304802526555\n"
     ]
    }
   ],
   "source": [
    "rf_grid_Grid = {\"n_estimators\": np.arange(10, 500, 50),\n",
    "                \"min_samples_split\": np.arange(2, 20, 4),\n",
    "                \"min_samples_leaf\": np.arange(1, 20, 2),\n",
    "                \"random_state\": np.arange(1, 2, 1),\n",
    "                \"max_depth\": np.arange(1, 10, 1)\n",
    "                }\n",
    "\n",
    "gridTree = GridSearchCV(RandomForestClassifier(),\n",
    "                            param_grid=rf_grid_Grid,\n",
    "                            cv=5,\n",
    "                            n_jobs=-1,\n",
    "                            verbose=True,\n",
    "                        )\n",
    "\n",
    "gridTree.fit(X_train,y_train)\n",
    "gridTree_predicted = gridTree.predict(X_test)\n",
    "gridTree_conf_matrix = confusion_matrix(y_test, gridTree_predicted)\n",
    "gridTree_acc_score = accuracy_score(y_test, gridTree_predicted)\n",
    "print(\"Best parameters: \", gridTree.best_params_)\n",
    "print(\"\\n\")\n",
    "print(\"Confusion matrix\")\n",
    "print(gridTree_conf_matrix)\n",
    "print(\"\\n\")\n",
    "print(\"Accuracy of Random Forest:\",gridTree_acc_score*100,'\\n')\n",
    "print(classification_report(y_test, gridTree_predicted))\n",
    "\n",
    "for i in range(len(df.columns.values) - 1):\n",
    "    print(\"Feature:\", df.columns.values[i],\n",
    "          \"Importance:\", gridTree.best_estimator_.feature_importances_[i])"
   ]
  }
 ],
 "metadata": {
  "kernelspec": {
   "display_name": "Python 3",
   "language": "python",
   "name": "python3"
  },
  "language_info": {
   "codemirror_mode": {
    "name": "ipython",
    "version": 3
   },
   "file_extension": ".py",
   "mimetype": "text/x-python",
   "name": "python",
   "nbconvert_exporter": "python",
   "pygments_lexer": "ipython3",
   "version": "3.8.3"
  }
 },
 "nbformat": 4,
 "nbformat_minor": 4
}